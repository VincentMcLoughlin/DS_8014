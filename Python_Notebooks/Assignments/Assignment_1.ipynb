{
 "cells": [
  {
   "cell_type": "code",
   "execution_count": 18,
   "metadata": {},
   "outputs": [],
   "source": [
    "## setting the path to the datasets\n",
    "import pandas as pd\n",
    "datadir='../../Datasets/'\n",
    "\n",
    "## required packages for this Chapter\n",
    "import igraph as ig\n",
    "import numpy as np\n",
    "import pandas as pd\n",
    "import matplotlib.pyplot as plt\n",
    "from sklearn.linear_model import LinearRegression\n",
    "from collections import Counter\n",
    "from statsmodels.distributions.empirical_distribution import ECDF as ecdf"
   ]
  },
  {
   "cell_type": "code",
   "execution_count": 19,
   "metadata": {},
   "outputs": [],
   "source": [
    "X = pd.read_csv(datadir + \"GridNorthAmerica\\gridkit_north_america-highvoltage-vertices.csv\")\n",
    "D = pd.read_csv(datadir + \"GridNorthAmerica\\gridkit_north_america-highvoltage-links.csv\")\n",
    "\n",
    "tuples = [tuple(x) for x in D.values]\n",
    "gr = ig.Graph.TupleList(tuples, directed=False)\n",
    "\n"
   ]
  },
  {
   "cell_type": "markdown",
   "metadata": {},
   "source": [
    "Question 2"
   ]
  },
  {
   "cell_type": "code",
   "execution_count": 23,
   "metadata": {},
   "outputs": [
    {
     "name": "stderr",
     "output_type": "stream",
     "text": [
      "C:\\Users\\vince\\AppData\\Local\\Temp\\ipykernel_14788\\415288316.py:4: DeprecationWarning: Partial string matches of enum members are deprecated since igraph 0.9.3; use strings that identify an enum member unambiguously.\n",
      "  gr.connected_components().giant().vcount(), sum([x==0 for x in gr.degree()]), gr.transitivity_undirected(mode='na'),\n"
     ]
    },
    {
     "data": {
      "text/html": [
       "<div>\n",
       "<style scoped>\n",
       "    .dataframe tbody tr th:only-of-type {\n",
       "        vertical-align: middle;\n",
       "    }\n",
       "\n",
       "    .dataframe tbody tr th {\n",
       "        vertical-align: top;\n",
       "    }\n",
       "\n",
       "    .dataframe thead th {\n",
       "        text-align: right;\n",
       "    }\n",
       "</style>\n",
       "<table border=\"1\" class=\"dataframe\">\n",
       "  <thead>\n",
       "    <tr style=\"text-align: right;\">\n",
       "      <th></th>\n",
       "      <th>0</th>\n",
       "    </tr>\n",
       "  </thead>\n",
       "  <tbody>\n",
       "    <tr>\n",
       "      <th>graph</th>\n",
       "      <td>NA_grid</td>\n",
       "    </tr>\n",
       "    <tr>\n",
       "      <th>nodes</th>\n",
       "      <td>28305</td>\n",
       "    </tr>\n",
       "    <tr>\n",
       "      <th>edges</th>\n",
       "      <td>22459</td>\n",
       "    </tr>\n",
       "    <tr>\n",
       "      <th>min degree</th>\n",
       "      <td>1</td>\n",
       "    </tr>\n",
       "    <tr>\n",
       "      <th>mean degree</th>\n",
       "      <td>1.586928</td>\n",
       "    </tr>\n",
       "    <tr>\n",
       "      <th>median degree</th>\n",
       "      <td>1.0</td>\n",
       "    </tr>\n",
       "    <tr>\n",
       "      <th>degree of 99% quantile</th>\n",
       "      <td>6.0</td>\n",
       "    </tr>\n",
       "    <tr>\n",
       "      <th>max degree</th>\n",
       "      <td>25</td>\n",
       "    </tr>\n",
       "    <tr>\n",
       "      <th>diameter</th>\n",
       "      <td>18</td>\n",
       "    </tr>\n",
       "    <tr>\n",
       "      <th>components</th>\n",
       "      <td>5846</td>\n",
       "    </tr>\n",
       "    <tr>\n",
       "      <th>largest component</th>\n",
       "      <td>68</td>\n",
       "    </tr>\n",
       "    <tr>\n",
       "      <th># of isolates</th>\n",
       "      <td>0</td>\n",
       "    </tr>\n",
       "    <tr>\n",
       "      <th>Global clustering coefficient</th>\n",
       "      <td>0.0</td>\n",
       "    </tr>\n",
       "    <tr>\n",
       "      <th>Local clustering coefficient</th>\n",
       "      <td>0.0</td>\n",
       "    </tr>\n",
       "  </tbody>\n",
       "</table>\n",
       "</div>"
      ],
      "text/plain": [
       "                                      0\n",
       "graph                           NA_grid\n",
       "nodes                             28305\n",
       "edges                             22459\n",
       "min degree                            1\n",
       "mean degree                    1.586928\n",
       "median degree                       1.0\n",
       "degree of 99% quantile              6.0\n",
       "max degree                           25\n",
       "diameter                             18\n",
       "components                         5846\n",
       "largest component                    68\n",
       "# of isolates                         0\n",
       "Global clustering coefficient       0.0\n",
       "Local clustering coefficient        0.0"
      ]
     },
     "execution_count": 23,
     "metadata": {},
     "output_type": "execute_result"
    }
   ],
   "source": [
    "deg = gr.degree()\n",
    "base_stats = [gr.vcount(), gr.ecount(), np.min(deg), np.mean(deg), np.median(deg), \n",
    "        np.quantile(deg, 0.99), np.max(deg), gr.diameter(), np.max(gr.connected_components().membership)+1, \n",
    "        gr.connected_components().giant().vcount(), sum([x==0 for x in gr.degree()]), gr.transitivity_undirected(mode='na'), \n",
    "        gr.transitivity_avglocal_undirected(mode='nan')]\n",
    "\n",
    "S = []\n",
    "S.append(['NA_grid'] + base_stats)\n",
    "D = pd.DataFrame(S,columns=['graph','nodes','edges','min degree','mean degree','median degree',\n",
    "                            'degree of 99% quantile','max degree','diameter','components','largest component',\n",
    "                            '# of isolates','Global clustering coefficient','Local clustering coefficient']).transpose()\n",
    "\n",
    "D\n"
   ]
  },
  {
   "cell_type": "markdown",
   "metadata": {},
   "source": [
    "Question 3: Consider the GitHub (ml) graph on 9,739 nodes\n",
    "a. Find the number of walks of length 5.\n",
    "b. Find the number of cycles of length 4 (induced, that is, without chords)."
   ]
  },
  {
   "cell_type": "code",
   "execution_count": 21,
   "metadata": {},
   "outputs": [
    {
     "name": "stdout",
     "output_type": "stream",
     "text": [
      "GitHub nodes: 37700 ; ml developers: 9739 ; web developers: 27961\n"
     ]
    }
   ],
   "source": [
    "D_gh = pd.read_csv(datadir + 'GitHubDevelopers/musae_git_edges.csv')\n",
    "tuples = [tuple(x) for x in D_gh.values]\n",
    "gh = ig.Graph.TupleList(tuples, directed=False)\n",
    "\n",
    "X = pd.read_csv(datadir+'GitHubDevelopers/musae_git_target.csv')\n",
    "\n",
    "#Map node names in edgelist to indices in the graph\n",
    "idx = [int(i) for i in gh.vs['name']]\n",
    "\n",
    "lbl = ['web','ml']\n",
    "gh.vs['lbl'] = [lbl[i] for i in list(X['ml_target'])]\n",
    "\n",
    "gh_ml = gh.subgraph([v for v in gh.vs() if v['lbl'] == 'ml'])\n",
    "gh_web = gh.subgraph([v for v in gh.vs() if v['lbl'] == 'web'])\n",
    "print('GitHub nodes:',gh.vcount(),'; ml developers:',gh_ml.vcount(),'; web developers:',gh_web.vcount())\n"
   ]
  },
  {
   "cell_type": "code",
   "execution_count": 8,
   "metadata": {},
   "outputs": [
    {
     "name": "stdout",
     "output_type": "stream",
     "text": [
      "9739\n",
      "Number of walks of length 5: 1711269128\n"
     ]
    }
   ],
   "source": [
    "def get_walks(graph, v_index, steps):\n",
    "\n",
    "    valid_walks = 0\n",
    "    if steps == 0:\n",
    "        return 1\n",
    "\n",
    "    neighbours = graph.neighbors(v_index)    \n",
    "    for new_index in neighbours:        \n",
    "        valid_walks += get_walks(graph, new_index, steps-1)\n",
    "\n",
    "    return valid_walks\n",
    "\n",
    "vseq = gh_ml.vs\n",
    "num_5_walks = 0\n",
    "for v in gh_ml.vs:    \n",
    "    num_5_walks += get_walks(gh_ml, v.index, 5)    \n",
    "\n",
    "print(f\"Number of walks of length 5: {num_5_walks}\")"
   ]
  },
  {
   "cell_type": "code",
   "execution_count": 16,
   "metadata": {},
   "outputs": [],
   "source": [
    "def get_cycles(graph, v_index, steps, node_list, seen_node_set):\n",
    "\n",
    "    node_list.append(v_index)\n",
    "    seen_node_set.add(v_index)\n",
    "\n",
    "    valid_cycles = 0\n",
    "    print(f\"\\nInfo\")\n",
    "    print(node_list[0])\n",
    "    print(v_index)\n",
    "    shortest_path_length = graph.distances(node_list[0], v_index)[0][0]\n",
    "    print(f\"Shortest length: {shortest_path_length}\")\n",
    "    print(f\"Remaining steps: {steps}\")    \n",
    "    \n",
    "    if steps == 0 and shortest_path_length > 1:\n",
    "        print(f\"Returning 1 case 1\")\n",
    "        return 1\n",
    "    elif steps == 0 and shortest_path_length == 1:\n",
    "        print(f\"Returning 0 case 2\")\n",
    "        return 0\n",
    "    elif steps == 0 and shortest_path_length == 0:\n",
    "        print(f\"Returning 1 case 3\")\n",
    "        return 1\n",
    "    \n",
    "    neighbours = graph.neighbors(v_index)\n",
    "    print(f\"neighbours: {neighbours}\")\n",
    "    for new_index in neighbours:\n",
    "        if new_index not in seen_node_set and new_index != node_list[0]:\n",
    "            valid_cycles += get_cycles(graph, new_index, steps-1, node_list, seen_node_set)\n",
    "        \n",
    "    print(f\"List: {node_list}\")\n",
    "    print(f\"returning {valid_cycles} case 4\")\n",
    "    return valid_cycles\n",
    "\n",
    "\n",
    "# vseq = gh_ml.vs\n",
    "# num_valid_cycles = 0\n",
    "# for v in gh_ml.vs:\n",
    "#     node_list = list()\n",
    "#     num_valid_cycles += get_cycles(gh_ml, v.index, 4, node_list)    \n",
    "\n",
    "# print(f\"Number of chordless cycles of length 4: {num_valid_cycles}\")"
   ]
  },
  {
   "cell_type": "code",
   "execution_count": 17,
   "metadata": {},
   "outputs": [
    {
     "name": "stdout",
     "output_type": "stream",
     "text": [
      "IGRAPH U--- 4 4 --\n",
      "+ edges:\n",
      "0--2 0--3 1--2 1--3\n",
      "\n",
      "Info\n",
      "0\n",
      "0\n",
      "Shortest length: 0\n",
      "Remaining steps: 4\n",
      "neighbours: [2, 3]\n",
      "\n",
      "Info\n",
      "0\n",
      "2\n",
      "Shortest length: 1\n",
      "Remaining steps: 3\n",
      "neighbours: [0, 1]\n",
      "\n",
      "Info\n",
      "0\n",
      "1\n",
      "Shortest length: 2\n",
      "Remaining steps: 2\n",
      "neighbours: [2, 3]\n",
      "\n",
      "Info\n",
      "0\n",
      "3\n",
      "Shortest length: 1\n",
      "Remaining steps: 1\n",
      "neighbours: [0, 1]\n",
      "List: [0, 2, 1, 3]\n",
      "returning 0 case 4\n",
      "List: [0, 2, 1, 3]\n",
      "returning 0 case 4\n",
      "List: [0, 2, 1, 3]\n",
      "returning 0 case 4\n",
      "List: [0, 2, 1, 3]\n",
      "returning 0 case 4\n",
      "Node list is [0, 2, 1, 3]\n",
      "\n",
      "Info\n",
      "1\n",
      "1\n",
      "Shortest length: 0\n",
      "Remaining steps: 4\n",
      "neighbours: [2, 3]\n",
      "\n",
      "Info\n",
      "1\n",
      "2\n",
      "Shortest length: 1\n",
      "Remaining steps: 3\n",
      "neighbours: [0, 1]\n",
      "\n",
      "Info\n",
      "1\n",
      "0\n",
      "Shortest length: 2\n",
      "Remaining steps: 2\n",
      "neighbours: [2, 3]\n",
      "\n",
      "Info\n",
      "1\n",
      "3\n",
      "Shortest length: 1\n",
      "Remaining steps: 1\n",
      "neighbours: [0, 1]\n",
      "List: [1, 2, 0, 3]\n",
      "returning 0 case 4\n",
      "List: [1, 2, 0, 3]\n",
      "returning 0 case 4\n",
      "List: [1, 2, 0, 3]\n",
      "returning 0 case 4\n",
      "List: [1, 2, 0, 3]\n",
      "returning 0 case 4\n",
      "Node list is [1, 2, 0, 3]\n",
      "\n",
      "Info\n",
      "2\n",
      "2\n",
      "Shortest length: 0\n",
      "Remaining steps: 4\n",
      "neighbours: [0, 1]\n",
      "\n",
      "Info\n",
      "2\n",
      "0\n",
      "Shortest length: 1\n",
      "Remaining steps: 3\n",
      "neighbours: [2, 3]\n",
      "\n",
      "Info\n",
      "2\n",
      "3\n",
      "Shortest length: 2\n",
      "Remaining steps: 2\n",
      "neighbours: [0, 1]\n",
      "\n",
      "Info\n",
      "2\n",
      "1\n",
      "Shortest length: 1\n",
      "Remaining steps: 1\n",
      "neighbours: [2, 3]\n",
      "List: [2, 0, 3, 1]\n",
      "returning 0 case 4\n",
      "List: [2, 0, 3, 1]\n",
      "returning 0 case 4\n",
      "List: [2, 0, 3, 1]\n",
      "returning 0 case 4\n",
      "List: [2, 0, 3, 1]\n",
      "returning 0 case 4\n",
      "Node list is [2, 0, 3, 1]\n",
      "\n",
      "Info\n",
      "3\n",
      "3\n",
      "Shortest length: 0\n",
      "Remaining steps: 4\n",
      "neighbours: [0, 1]\n",
      "\n",
      "Info\n",
      "3\n",
      "0\n",
      "Shortest length: 1\n",
      "Remaining steps: 3\n",
      "neighbours: [2, 3]\n",
      "\n",
      "Info\n",
      "3\n",
      "2\n",
      "Shortest length: 2\n",
      "Remaining steps: 2\n",
      "neighbours: [0, 1]\n",
      "\n",
      "Info\n",
      "3\n",
      "1\n",
      "Shortest length: 1\n",
      "Remaining steps: 1\n",
      "neighbours: [2, 3]\n",
      "List: [3, 0, 2, 1]\n",
      "returning 0 case 4\n",
      "List: [3, 0, 2, 1]\n",
      "returning 0 case 4\n",
      "List: [3, 0, 2, 1]\n",
      "returning 0 case 4\n",
      "List: [3, 0, 2, 1]\n",
      "returning 0 case 4\n",
      "Node list is [3, 0, 2, 1]\n",
      "Number of chordless cycles of length 4: 0\n"
     ]
    }
   ],
   "source": [
    "#Example graph\n",
    "#g = ig.Graph(n=6, edges=[[0, 1], [1, 2], [2, 3], [3, 4]])\n",
    "g = ig.Graph(n=4, edges= [[0, 2], [0, 3], [2, 1], [1, 3]])\n",
    "print(g)\n",
    "num_valid_cycles = 0\n",
    "for v in g.vs:\n",
    "    node_list = list()\n",
    "    seen_node_set = set()\n",
    "    num_valid_cycles += get_cycles(g, v.index, 4, node_list, seen_node_set)\n",
    "    print(f\"Node list is {node_list}\")\n",
    "\n",
    "print(f\"Number of chordless cycles of length 4: {num_valid_cycles}\")"
   ]
  },
  {
   "cell_type": "markdown",
   "metadata": {},
   "source": [
    "Question 4: Consider the airport graph5 found in the additional material from\n",
    "the book's web site under Datasets/Airport/airport data.csv.\n",
    "The first 3 fields are: the origin, the destination and, respectively,\n",
    "the number of passengers. This graph is weighted and directed; the\n",
    "weight of a directed edge uv corresponds to the number of passengers\n",
    "travelling from airport u to airport v.\n",
    "\n",
    "Plot the cumulative degree distribution"
   ]
  },
  {
   "cell_type": "code",
   "execution_count": 5,
   "metadata": {},
   "outputs": [
    {
     "name": "stdout",
     "output_type": "stream",
     "text": [
      "X\n",
      "  airport         lon        lat state         city\n",
      "0     ABE  -75.440804  40.652100    PA    Allentown\n",
      "1     ABI  -99.681900  32.411301    TX      Abilene\n",
      "2     ABQ -106.609001  35.040199    NM  Albuquerque\n",
      "3     ABR  -98.421799  45.449100    SD     Aberdeen\n",
      "4     ABY  -84.194504  31.535500    GA       Albany\n",
      "D\n",
      "  orig_airport dest_airport  total_passengers\n",
      "0          SFO          LAX           1442105\n",
      "1          LAX          SFO           1438639\n",
      "2          MCO          ATL           1436625\n",
      "3          ATL          MCO           1424069\n",
      "4          LAX          JFK           1277731\n",
      "['name', 'airport', 'lon', 'lat', 'state', 'city']\n"
     ]
    }
   ],
   "source": [
    "X = pd.read_csv(datadir + \"Airports/airports_loc.csv\")\n",
    "D = pd.read_csv(datadir + \"Airports/connections.csv\")\n",
    "\n",
    "tuples = [tuple(x) for x in D.values]\n",
    "air_gr = ig.Graph.TupleList(tuples, directed=True)\n",
    "air_gr.vs['airport'] = list(X['airport'])\n",
    "air_gr.vs['lon'] = list(X['lon'])\n",
    "air_gr.vs['lat'] = list(X['lat'])\n",
    "air_gr.vs['state'] = list(X['state'])\n",
    "air_gr.vs['city'] = list(X['city'])\n"
   ]
  },
  {
   "cell_type": "code",
   "execution_count": 61,
   "metadata": {},
   "outputs": [
    {
     "name": "stdout",
     "output_type": "stream",
     "text": [
      "Slope is 0.17556384212236112\n"
     ]
    },
    {
     "data": {
      "image/png": "[encoded data removed]",
      "text/plain": [
       "<Figure size 640x480 with 1 Axes>"
      ]
     },
     "metadata": {},
     "output_type": "display_data"
    }
   ],
   "source": [
    "deg = air_gr.degree()\n",
    "e = ecdf(deg)\n",
    "x = np.arange(1,max(deg),1)\n",
    "y = [e(i) for i in x]\n",
    "slope, intercept = np.polyfit(np.log(x), y, 1)\n",
    "print(f\"Slope is {slope}\")\n",
    "plt.semilogx(x,y,'-',color='black',label='GitHub')\n",
    "plt.xlabel('degree',fontsize=14)\n",
    "plt.ylabel('empirical cdf',fontsize=14)\n",
    "plt.show()"
   ]
  },
  {
   "cell_type": "code",
   "execution_count": 38,
   "metadata": {},
   "outputs": [
    {
     "name": "stdout",
     "output_type": "stream",
     "text": [
      "igraph.Vertex(<igraph.Graph object at 0x000001DB1AF99440>, 3, {'name': 'ATL'})\n",
      "Busiest airport is: 336\n"
     ]
    }
   ],
   "source": [
    "# b. Find the busiest airport. In other words, find the node with the maximum total degree\n",
    "\n",
    "v_set = air_gr.vs()\n",
    "max_deg = 0\n",
    "max_v = 0\n",
    "for v in v_set:\n",
    "\n",
    "    total_deg = len(v.in_edges()) + len(v.out_edges())\n",
    "    if total_deg > max_deg:\n",
    "        max_deg = total_deg\n",
    "        max_v = v\n",
    "\n",
    "print(max_v)\n",
    "print(f\"Busiest airport is {max_v[\"name\"]} with degree: {max_deg}\")"
   ]
  },
  {
   "cell_type": "code",
   "execution_count": 50,
   "metadata": {},
   "outputs": [
    {
     "name": "stdout",
     "output_type": "stream",
     "text": [
      "# of strongly connected components: Clustering with 464 elements and 40 clusters\n"
     ]
    }
   ],
   "source": [
    "# c. Find # strongly connected components\n",
    "components = air_gr.connected_components(mode=\"strong\")\n",
    "print(f\"# of strongly connected components is 40, as indicated by summary: {components.summary()}\")"
   ]
  },
  {
   "cell_type": "code",
   "execution_count": 25,
   "metadata": {},
   "outputs": [
    {
     "name": "stdout",
     "output_type": "stream",
     "text": [
      "# isolated nodes: 18\n"
     ]
    }
   ],
   "source": [
    "# d. Find the subgraph induced by all airports from California. Find the number of isolated nodes in this subgraph.\n",
    "\n",
    "sub_gr_vs = air_gr.vs.select(state_eq=\"CA\")\n",
    "sub_gr = air_gr.subgraph(sub_gr_vs)\n",
    "\n",
    "isolated_nodes = set()\n",
    "for v in sub_gr.vs:\n",
    "    #print(v.degree())\n",
    "    if v.degree() == 0:\n",
    "        isolated_nodes.add(v)\n",
    "\n",
    "print(f\"# isolated nodes: {len(isolated_nodes)}\")"
   ]
  },
  {
   "cell_type": "markdown",
   "metadata": {},
   "source": [
    "Question 5: \n",
    "Take 100 random pairs of nodes in the European Grid network. For\n",
    "each pair plot a point (x; y), where x is the graph distance between\n",
    "the two nodes and y is the corresponding geographical distance (in\n",
    "kilometres). Is there a correlation between the two distances? In\n",
    "order to compute the geographical distance you may, for example,\n",
    "use function geodesic from geopy package or implement it from\n",
    "scratch using the haversine formula that determines the great-circle\n",
    "distance between two points on a sphere given their longitudes and\n",
    "latitudes."
   ]
  },
  {
   "cell_type": "code",
   "execution_count": 7,
   "metadata": {},
   "outputs": [
    {
     "name": "stdout",
     "output_type": "stream",
     "text": [
      "Requirement already satisfied: geopy in c:\\src\\ds_8014\\venv\\lib\\site-packages (2.2.0)\n",
      "Requirement already satisfied: geographiclib<2,>=1.49 in c:\\src\\ds_8014\\venv\\lib\\site-packages (from geopy) (1.52)\n",
      "Note: you may need to restart the kernel to use updated packages.\n"
     ]
    },
    {
     "name": "stderr",
     "output_type": "stream",
     "text": [
      "WARNING: You are using pip version 22.0.4; however, version 22.2.2 is available.\n",
      "You should consider upgrading via the 'c:\\src\\DS_8014\\venv\\Scripts\\python.exe -m pip install --upgrade pip' command.\n"
     ]
    }
   ],
   "source": [
    "%pip install geopy"
   ]
  },
  {
   "cell_type": "code",
   "execution_count": 21,
   "metadata": {},
   "outputs": [],
   "source": [
    "from geopy import distance\n",
    "\n",
    "## read edge list for the grid network and build undirected graph\n",
    "gr = ig.Graph.Read_Ncol(datadir+'GridEurope/gridkit_europe-highvoltage.edges', directed=False)\n",
    "gr = gr.simplify()\n",
    "\n",
    "## read the vertices along with some of the attributes\n",
    "X = pd.read_csv(datadir+'GridEurope/gridkit_europe-highvoltage.vertices')\n",
    "idx = [int(i) for i in gr.vs['name']]\n",
    "sorterIndex = dict(zip(idx,range(len(idx))))\n",
    "X['Rank'] = X['v_id'].map(sorterIndex)\n",
    "X.sort_values(['Rank'], ascending=[True],inplace=True)\n",
    "X.dropna(inplace=True)\n",
    "gr.vs['lon'] = list(X['lon'])\n",
    "gr.vs['lat'] = list(X['lat'])\n",
    "gr.vs['type'] = list(X['typ'])\n",
    "gr.vs['layout'] = [(v['lon'],v['lat']) for v in gr.vs()] ## tuples with lat/lon\n",
    "gr.vs['size'] = 3\n",
    "gr.es['color'] = 'grey'\n",
    "gr.vs['color'] = 'black'\n",
    "\n",
    "# newport_ri = (41.49008, -71.312796)\n",
    "# cleveland_oh = (41.499498, -81.695391)\n",
    "# print(distance.distance(newport_ri, cleveland_oh).km)"
   ]
  },
  {
   "cell_type": "code",
   "execution_count": 36,
   "metadata": {},
   "outputs": [
    {
     "name": "stdout",
     "output_type": "stream",
     "text": [
      "7394\n",
      "[48.08346681609]\n",
      "100\n",
      "100\n"
     ]
    },
    {
     "data": {
      "image/png": "[encoded data removed]",
      "text/plain": [
       "<Figure size 640x480 with 1 Axes>"
      ]
     },
     "metadata": {},
     "output_type": "display_data"
    }
   ],
   "source": [
    "from collections import Counter\n",
    "sg = gr.connected_components().giant()\n",
    "V = np.random.choice(sg.vcount(), size=200, replace=False)\n",
    "V_1 = V[0:100]\n",
    "V_2 = V[100:200]\n",
    "print(V_1[0])\n",
    "print(sg.vs(int(V_1[0]))[\"lat\"])\n",
    "sp = []\n",
    "dist = []\n",
    "for i in range(0,100):    \n",
    "    sp.extend(sg.distances(V_1[i], V_2[i])[0])    \n",
    "    lat_1 = float(sg.vs(int(V_1[i]))[\"lat\"][0])\n",
    "    lon_1 = float(sg.vs(int(V_1[i]))[\"lon\"][0])\n",
    "    lat_2 = float(sg.vs(int(V_2[i]))[\"lat\"][0])\n",
    "    lon_2 = float(sg.vs(int(V_2[i]))[\"lon\"][0])\n",
    "    loc_1 = (lat_1, lon_1)\n",
    "    loc_2 = (lat_2, lon_2)    \n",
    "    point_dist = distance.distance(loc_1, loc_2).km    \n",
    "    dist.append(point_dist)\n",
    "\n",
    "print(len(sp))\n",
    "print(len(dist))\n",
    "\n",
    "plt.scatter(sp, dist)\n",
    "plt.xlabel('Graph distance (by # of vertices)',fontsize=14)\n",
    "plt.ylabel('Great circle distance (KM)',fontsize=14);\n",
    "plt.show()\n",
    "\n",
    "\n"
   ]
  },
  {
   "cell_type": "markdown",
   "metadata": {},
   "source": [
    "Q5 ANSWER\n",
    "\n",
    "As we can see in our graph, there is a loosely linear correlation between our graph distance and our physical distance. "
   ]
  }
 ],
 "metadata": {
  "kernelspec": {
   "display_name": "Python 3.9.12 ('venv': venv)",
   "language": "python",
   "name": "python3"
  },
  "language_info": {
   "codemirror_mode": {
    "name": "ipython",
    "version": 3
   },
   "file_extension": ".py",
   "mimetype": "text/x-python",
   "name": "python",
   "nbconvert_exporter": "python",
   "pygments_lexer": "ipython3",
   "version": "3.9.12"
  },
  "orig_nbformat": 4,
  "vscode": {
   "interpreter": {
    "hash": "e2b5b1f831ddc9aefa4b96d1686710814664aefd36c7fef437f9f148da185091"
   }
  }
 },
 "nbformat": 4,
 "nbformat_minor": 2
}
