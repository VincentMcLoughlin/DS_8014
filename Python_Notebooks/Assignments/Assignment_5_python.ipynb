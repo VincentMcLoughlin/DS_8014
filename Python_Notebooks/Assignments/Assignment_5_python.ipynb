{
 "cells": [
  {
   "cell_type": "code",
   "execution_count": 1,
   "metadata": {},
   "outputs": [],
   "source": [
    "## set those accordingly\n",
    "datadir = '../../Datasets/'\n",
    "\n",
    "abcd_path = '/c/src/DS_8014/ABCDGraphGenerator.jl/utils/'"
   ]
  },
  {
   "cell_type": "code",
   "execution_count": 2,
   "metadata": {},
   "outputs": [
    {
     "name": "stderr",
     "output_type": "stream",
     "text": [
      "c:\\src\\DS_8014\\venv\\lib\\site-packages\\tqdm\\auto.py:22: TqdmWarning: IProgress not found. Please update jupyter and ipywidgets. See https://ipywidgets.readthedocs.io/en/stable/user_install.html\n",
      "  from .autonotebook import tqdm as notebook_tqdm\n"
     ]
    }
   ],
   "source": [
    "import igraph as ig\n",
    "import numpy as np\n",
    "import pandas as pd\n",
    "import matplotlib.pyplot as plt\n",
    "%matplotlib inline\n",
    "from sklearn.linear_model import LinearRegression\n",
    "from collections import Counter\n",
    "import os\n",
    "import umap\n",
    "import pickle\n",
    "import partition_igraph\n",
    "import subprocess\n",
    "from sklearn.metrics import adjusted_mutual_info_score as AMI\n",
    "\n",
    "## we used those for the book, but you can change to other colors\n",
    "cls_edges = 'gainsboro'\n",
    "cls = ['silver','dimgray','black']"
   ]
  },
  {
   "cell_type": "code",
   "execution_count": 4,
   "metadata": {},
   "outputs": [
    {
     "data": {
      "text/html": [
       "<div>\n",
       "<style scoped>\n",
       "    .dataframe tbody tr th:only-of-type {\n",
       "        vertical-align: middle;\n",
       "    }\n",
       "\n",
       "    .dataframe tbody tr th {\n",
       "        vertical-align: top;\n",
       "    }\n",
       "\n",
       "    .dataframe thead th {\n",
       "        text-align: right;\n",
       "    }\n",
       "</style>\n",
       "<table border=\"1\" class=\"dataframe\">\n",
       "  <thead>\n",
       "    <tr style=\"text-align: right;\">\n",
       "      <th></th>\n",
       "      <th>z</th>\n",
       "      <th>p</th>\n",
       "    </tr>\n",
       "  </thead>\n",
       "  <tbody>\n",
       "    <tr>\n",
       "      <th>33</th>\n",
       "      <td>3.133291</td>\n",
       "      <td>0.207612</td>\n",
       "    </tr>\n",
       "    <tr>\n",
       "      <th>0</th>\n",
       "      <td>3.104691</td>\n",
       "      <td>0.218750</td>\n",
       "    </tr>\n",
       "    <tr>\n",
       "      <th>32</th>\n",
       "      <td>2.005306</td>\n",
       "      <td>0.152778</td>\n",
       "    </tr>\n",
       "    <tr>\n",
       "      <th>1</th>\n",
       "      <td>1.218296</td>\n",
       "      <td>0.197531</td>\n",
       "    </tr>\n",
       "    <tr>\n",
       "      <th>3</th>\n",
       "      <td>0.589498</td>\n",
       "      <td>0.000000</td>\n",
       "    </tr>\n",
       "  </tbody>\n",
       "</table>\n",
       "</div>"
      ],
      "text/plain": [
       "           z         p\n",
       "33  3.133291  0.207612\n",
       "0   3.104691  0.218750\n",
       "32  2.005306  0.152778\n",
       "1   1.218296  0.197531\n",
       "3   0.589498  0.000000"
      ]
     },
     "execution_count": 4,
     "metadata": {},
     "output_type": "execute_result"
    }
   ],
   "source": [
    "z = ig.Graph.Famous('zachary')\n",
    "z.vs['size'] = 12\n",
    "z.vs['name'] = [str(i) for i in range(z.vcount())]\n",
    "z.vs['label'] = [str(i) for i in range(z.vcount())]\n",
    "z.vs['label_size'] = 8\n",
    "z.es['color'] = cls_edges\n",
    "z.vs['comm'] = [0,0,0,0,0,0,0,0,1,1,0,0,0,0,1,1,0,0,1,0,1,0,1,1,1,1,1,1,1,1,1,1,1,1]\n",
    "z.vs['color'] = [cls[i] for i in z.vs['comm']]\n",
    "#ig.plot(z, 'zachary_gt.eps', bbox=(0,0,300,200))\n",
    "ig.plot(z, bbox=(0,0,350,250))\n",
    "\n",
    "## compute internal degrees\n",
    "in_deg_0 = z.subgraph_edges([e for e in z.es if z.vs['comm'][e.tuple[0]]==0 and z.vs['comm'][e.tuple[1]]==0],\n",
    "                            delete_vertices=False).degree()\n",
    "in_deg_1 = z.subgraph_edges([e for e in z.es if z.vs['comm'][e.tuple[0]]==1 and z.vs['comm'][e.tuple[1]]==1],\n",
    "                            delete_vertices=False).degree()\n",
    "\n",
    "## compute z (normalized within-module degree)\n",
    "z.vs['in_deg'] = [in_deg_0[i] + in_deg_1[i] for i in range(z.vcount())]\n",
    "mu = [np.mean([x for x in in_deg_0 if x>0]),np.mean([x for x in in_deg_1 if x>0])]\n",
    "sig = [np.std([x for x in in_deg_0 if x>0],ddof=1),np.std([x for x in in_deg_1 if x>0],ddof=1)]\n",
    "z.vs['z'] = [(v['in_deg']-mu[v['comm']])/sig[v['comm']] for v in z.vs]\n",
    "\n",
    "## computing p (participation coefficient)\n",
    "z.vs['deg'] = z.degree()\n",
    "z.vs['out_deg'] = [v['deg'] - v['in_deg'] for v in z.vs]\n",
    "z.vs['p'] = [1-(v['in_deg']/v['deg'])**2-(v['out_deg']/v['deg'])**2 for v in z.vs]\n",
    "D = pd.DataFrame(np.array([z.vs['z'],z.vs['p']]).transpose(),columns=['z','p']).sort_values(by='z',ascending=False)\n",
    "D.head()"
   ]
  },
  {
   "cell_type": "markdown",
   "metadata": {},
   "source": [
    "# Q1"
   ]
  },
  {
   "cell_type": "code",
   "execution_count": 6,
   "metadata": {},
   "outputs": [
    {
     "name": "stdout",
     "output_type": "stream",
     "text": [
      "ECG AMI: 0.4784978773634959\n",
      "Louvain AMI:: 0.5653497612707892\n",
      "Info_map AMI: 0.687422347904921\n",
      "Label Prop AMI: 0.687422347904921\n",
      "GN AMI (n=2): 0.8327564079186137\n",
      "CNM AMI (n=2): 0.8334659946350966\n",
      "GN AMI: 0.5499173029289166\n",
      "CNM AMI: 0.6807645098886008\n"
     ]
    }
   ],
   "source": [
    "##ECG, Louvain, Infomap, Label Propagation, Girvan-Newman, and CNM\n",
    "ecg = z.community_ecg()\n",
    "louvain = z.community_multilevel()\n",
    "info_map = z.community_infomap()\n",
    "lab_prop = z.community_label_propagation()\n",
    "gn = z.community_edge_betweenness()\n",
    "cnm = z.community_fastgreedy()\n",
    "\n",
    "## show result with 2 clusters -- \n",
    "z.vs['gn'] = gn.as_clustering(n=2).membership\n",
    "z.vs['cnm'] = cnm.as_clustering(n=2).membership\n",
    "\n",
    "print('ECG AMI:',AMI(z.vs['comm'],ecg.membership))  \n",
    "print('Louvain AMI::',AMI(z.vs['comm'],louvain.membership)) \n",
    "print('Info_map AMI:',AMI(z.vs['comm'],info_map.membership)) \n",
    "print('Label Prop AMI:',AMI(z.vs['comm'], lab_prop.membership))  \n",
    "print('GN AMI (n=2):',AMI(z.vs['comm'],z.vs['gn']))\n",
    "print('CNM AMI (n=2):',AMI(z.vs['comm'],z.vs['cnm']))  \n",
    "print('GN AMI:',AMI(z.vs['comm'],gn.as_clustering().membership))\n",
    "print('CNM AMI:',AMI(z.vs['comm'],cnm.as_clustering().membership))"
   ]
  },
  {
   "cell_type": "markdown",
   "metadata": {},
   "source": [
    "# Q2 Run various clustering algorithms (ECG, Louvain, Infomap, Label Propagation; Girvan-Newman and CNM; note that CNM might be too slow but give it a try anyways) on the GitHub ml graph. Which algorithms produce similar results? In order to answer this question, for each pair of algorithms, find the AMI score between the two results."
   ]
  },
  {
   "cell_type": "code",
   "execution_count": 3,
   "metadata": {},
   "outputs": [
    {
     "name": "stdout",
     "output_type": "stream",
     "text": [
      "GitHub nodes: 37700 ; ml developers: 9739 ; web developers: 27961\n"
     ]
    }
   ],
   "source": [
    "D_gh = pd.read_csv(datadir + 'GitHubDevelopers/musae_git_edges.csv')\n",
    "tuples = [tuple(x) for x in D_gh.values]\n",
    "gh = ig.Graph.TupleList(tuples, directed=False)\n",
    "\n",
    "X = pd.read_csv(datadir+'GitHubDevelopers/musae_git_target.csv')\n",
    "\n",
    "#Map node names in edgelist to indices in the graph\n",
    "idx = [int(i) for i in gh.vs['name']]\n",
    "\n",
    "lbl = ['web','ml']\n",
    "gh.vs['lbl'] = [lbl[i] for i in list(X['ml_target'])]\n",
    "\n",
    "gh_ml = gh.subgraph([v for v in gh.vs() if v['lbl'] == 'ml'])\n",
    "gh_web = gh.subgraph([v for v in gh.vs() if v['lbl'] == 'web'])\n",
    "print('GitHub nodes:',gh.vcount(),'; ml developers:',gh_ml.vcount(),'; web developers:',gh_web.vcount())"
   ]
  },
  {
   "cell_type": "code",
   "execution_count": 4,
   "metadata": {},
   "outputs": [],
   "source": [
    "ecg = gh_ml.community_ecg()\n",
    "louvain = gh_ml.community_multilevel()\n",
    "info_map = gh_ml.community_infomap()\n",
    "lab_prop = gh_ml.community_label_propagation()\n",
    "cnm = gh_ml.community_fastgreedy()"
   ]
  },
  {
   "cell_type": "code",
   "execution_count": 9,
   "metadata": {},
   "outputs": [],
   "source": [
    "#takes about two hours then crash\n",
    "#gn = gh_ml.community_edge_betweenness()\n"
   ]
  },
  {
   "cell_type": "code",
   "execution_count": 5,
   "metadata": {},
   "outputs": [],
   "source": [
    "community_result_dict = {\n",
    "    \"ecg\": ecg,\n",
    "    \"louvain\": louvain,\n",
    "    \"info_map\": info_map,\n",
    "    \"lab_prop\": lab_prop,\n",
    "    \"cnm\": cnm\n",
    "    #\"gn\": gn,\n",
    "    \n",
    "}"
   ]
  },
  {
   "cell_type": "code",
   "execution_count": 7,
   "metadata": {},
   "outputs": [
    {
     "name": "stdout",
     "output_type": "stream",
     "text": [
      "COMPARISONS FOR CNM\n",
      "CNM vs ECG AMI: 0.5203547488464255\n",
      "CNM vs Louvain AMI: 0.6175719100274567\n",
      "CNM vs Info_map AMI: 0.4544759978952388\n",
      "CNM vs Label Prop AMI: 0.6850320979448454\n",
      "CNM vs CNM AMI: 1.0\n",
      "\n",
      "\n",
      "COMPARISONS FOR ECG\n",
      "ECG vs ECG AMI: 1.0\n",
      "ECG vs Louvain AMI: 0.6013590463320131\n",
      "ECG vs Info_map AMI: 0.6088437931270099\n",
      "ECG vs Label Prop AMI: 0.4959272018772716\n",
      "ECG vs CNM AMI: 0.5203547488180151\n",
      "\n",
      "\n",
      "COMPARISONS FOR Louvain\n",
      "Louvain vs ECG AMI: 0.6013590463490521\n",
      "Louvain vs Louvain AMI: 1.0\n",
      "Louvain vs Info_map AMI: 0.5114945302159781\n",
      "Louvain vs Label Prop AMI: 0.6270863954516563\n",
      "Louvain vs CNM AMI: 0.6175719100232777\n",
      "\n",
      "\n",
      "COMPARISONS FOR Info Map\n",
      "Info Map vs ECG AMI: 0.6088437931208596\n",
      "Info Map vs Louvain AMI: 0.5114945301441123\n",
      "Info Map vs Info_map AMI: 1.0\n",
      "Info Map vs Label Prop AMI: 0.3024381755145819\n",
      "Info Map vs CNM AMI: 0.4544759978026166\n",
      "\n",
      "\n",
      "COMPARISONS FOR Label Prop\n",
      "Label Prop vs ECG AMI: 0.49592720188880174\n",
      "Label Prop vs Louvain AMI: 0.6270863954410633\n",
      "Label Prop vs Info_map AMI: 0.3024381756415401\n",
      "Label Prop vs Label Prop AMI: 1.0\n",
      "Label Prop vs CNM AMI: 0.6850320979344253\n",
      "\n",
      "\n"
     ]
    }
   ],
   "source": [
    "def print_ami_comparison(input_membership, name, community_dict):\n",
    "    print(f\"COMPARISONS FOR {name}\")\n",
    "    print(f'{name} vs ECG AMI:',AMI(input_membership, community_dict[\"ecg\"].membership))  \n",
    "    print(f'{name} vs Louvain AMI:',AMI(input_membership, community_dict[\"louvain\"].membership)) \n",
    "    print(f'{name} vs Info_map AMI:',AMI(input_membership, community_dict[\"info_map\"].membership)) \n",
    "    print(f'{name} vs Label Prop AMI:',AMI(input_membership, community_dict[\"lab_prop\"].membership))  \n",
    "    #print(f'{name} vs GN AMI:',AMI(input_membership,community_dict[\"gn\"].membership))\n",
    "    print(f'{name} vs CNM AMI:',AMI(input_membership,community_dict[\"cnm\"].as_clustering().membership))\n",
    "    print(\"\\n\")\n",
    "\n",
    "print_ami_comparison(cnm.as_clustering().membership, \"CNM\", community_result_dict)\n",
    "print_ami_comparison(ecg.membership, \"ECG\", community_result_dict)\n",
    "print_ami_comparison(louvain.membership, \"Louvain\", community_result_dict)\n",
    "print_ami_comparison(info_map.membership, \"Info Map\", community_result_dict)\n",
    "print_ami_comparison(lab_prop.membership, \"Label Prop\", community_result_dict)\n",
    "#print_ami_comparison(gn.membership, \"GN\", community_result_dict)\n"
   ]
  },
  {
   "cell_type": "markdown",
   "metadata": {},
   "source": []
  },
  {
   "cell_type": "markdown",
   "metadata": {},
   "source": [
    "#Q5 Take the ABCD graph we used to test quality measures (see Figure 5.9). Check node roles. Compute how many nodes we have in each family (recall that there are 4 families of non-hubs and 3 families of hubs). Plot the (z(v); p(v)) scores for all nodes as we did in Figure 5.3 for the karate club graph."
   ]
  },
  {
   "cell_type": "markdown",
   "metadata": {},
   "source": [
    "n = 1;000, \n",
    "the degree distribution exponent gamma = 2.5 \n",
    "with degrees in the range [5; 50], \n",
    "the community size exponent tau = 1:5 within the range [75; 150]\n",
    "the mixing parameter = 0.1."
   ]
  },
  {
   "cell_type": "code",
   "execution_count": 8,
   "metadata": {},
   "outputs": [],
   "source": [
    "def generate_abcd(n, gamma, tau, min_degree, max_degree, min_community, max_community, mixing_parameter):\n",
    "    abcd_path = \"C:/src/DS_8014/ABCDGraphGenerator.jl/utils/\"\n",
    "    output_path = \"C:/src/DS_8014/GraphMiningNotebooks/Python_Notebooks/Assignments/\"\n",
    "    cmd = f'julia {abcd_path}deg_sampler.jl {output_path}deg_{n}.dat {gamma} {min_degree} {max_degree} {n} {n}'\n",
    "    #print(cmd)\n",
    "    os.system(cmd)\n",
    "    cmd = f'julia {abcd_path}com_sampler.jl {output_path}cs_{n}.dat {tau} {min_community} {max_community} ' + str(n) + ' ' + str(n)\n",
    "    os.system(cmd)\n",
    "    #print(cmd)\n",
    "    xi = mixing_parameter\n",
    "    cmd = f'julia {abcd_path}graph_sampler.jl {output_path}net_{n}.dat {output_path}comm_{n}.dat {output_path}deg_{n}.dat {output_path}cs_{n}.dat xi {xi} false false'\n",
    "    os.system(cmd)\n",
    "    #print(cmd)\n",
    "    g = ig.Graph.Read_Ncol(f'{output_path}net_{n}.dat',directed=False)\n",
    "    c = np.loadtxt(f'{output_path}comm_{n}.dat',dtype='uint16',usecols=(1))\n",
    "    ## ground-truth communities\n",
    "    gt = [c[int(x['name'])-1]-1 for x in g.vs]\n",
    "    print('number of communities:',np.max(gt)+1)\n",
    "    g.vs[\"comm\"] = gt\n",
    "    return g"
   ]
  },
  {
   "cell_type": "code",
   "execution_count": 9,
   "metadata": {},
   "outputs": [
    {
     "name": "stdout",
     "output_type": "stream",
     "text": [
      "number of communities: 10\n",
      "number of communities: 10\n"
     ]
    }
   ],
   "source": [
    "n=1000\n",
    "g = generate_abcd(n=n, gamma=2.5, tau=1.5, min_degree=5, max_degree=50, min_community=75, max_community=150, mixing_parameter=0.1)\n",
    "num_communities = np.max(g.vs[\"comm\"])+1\n",
    "print('number of communities:',num_communities)"
   ]
  },
  {
   "cell_type": "markdown",
   "metadata": {},
   "source": [
    "# Number of Nodes in Each Family"
   ]
  },
  {
   "cell_type": "code",
   "execution_count": 10,
   "metadata": {},
   "outputs": [
    {
     "name": "stdout",
     "output_type": "stream",
     "text": [
      "# nodes for family 0: 128\n",
      "# nodes for family 1: 117\n",
      "# nodes for family 2: 110\n",
      "# nodes for family 3: 107\n",
      "# nodes for family 4: 106\n",
      "# nodes for family 5: 103\n",
      "# nodes for family 6: 87\n",
      "# nodes for family 7: 83\n",
      "# nodes for family 8: 80\n",
      "# nodes for family 9: 79\n"
     ]
    }
   ],
   "source": [
    "community_count = dict()\n",
    "for i in range(num_communities):\n",
    "    community_count[i] = []\n",
    "\n",
    "for v in g.vs():\n",
    "    c = v[\"comm\"]\n",
    "    community_count[c].append(v.index)\n",
    "\n",
    "for entry in community_count:\n",
    "    print(f\"# nodes for family {entry}: {len(community_count[entry])}\")"
   ]
  },
  {
   "cell_type": "code",
   "execution_count": 11,
   "metadata": {},
   "outputs": [
    {
     "data": {
      "text/html": [
       "<div>\n",
       "<style scoped>\n",
       "    .dataframe tbody tr th:only-of-type {\n",
       "        vertical-align: middle;\n",
       "    }\n",
       "\n",
       "    .dataframe tbody tr th {\n",
       "        vertical-align: top;\n",
       "    }\n",
       "\n",
       "    .dataframe thead th {\n",
       "        text-align: right;\n",
       "    }\n",
       "</style>\n",
       "<table border=\"1\" class=\"dataframe\">\n",
       "  <thead>\n",
       "    <tr style=\"text-align: right;\">\n",
       "      <th></th>\n",
       "      <th>z</th>\n",
       "      <th>p</th>\n",
       "    </tr>\n",
       "  </thead>\n",
       "  <tbody>\n",
       "    <tr>\n",
       "      <th>50</th>\n",
       "      <td>6.117661</td>\n",
       "      <td>0.152778</td>\n",
       "    </tr>\n",
       "    <tr>\n",
       "      <th>186</th>\n",
       "      <td>5.186727</td>\n",
       "      <td>0.197531</td>\n",
       "    </tr>\n",
       "    <tr>\n",
       "      <th>333</th>\n",
       "      <td>5.100956</td>\n",
       "      <td>0.129800</td>\n",
       "    </tr>\n",
       "    <tr>\n",
       "      <th>414</th>\n",
       "      <td>4.923193</td>\n",
       "      <td>0.165289</td>\n",
       "    </tr>\n",
       "    <tr>\n",
       "      <th>0</th>\n",
       "      <td>4.814775</td>\n",
       "      <td>0.149938</td>\n",
       "    </tr>\n",
       "  </tbody>\n",
       "</table>\n",
       "</div>"
      ],
      "text/plain": [
       "            z         p\n",
       "50   6.117661  0.152778\n",
       "186  5.186727  0.197531\n",
       "333  5.100956  0.129800\n",
       "414  4.923193  0.165289\n",
       "0    4.814775  0.149938"
      ]
     },
     "execution_count": 11,
     "metadata": {},
     "output_type": "execute_result"
    }
   ],
   "source": [
    "in_degs = []\n",
    "\n",
    "for i in range(num_communities):    \n",
    "    in_deg = g.subgraph_edges([e for e in g.es if g.vs['comm'][e.tuple[0]]==i and g.vs['comm'][e.tuple[1]]==i],\n",
    "                            delete_vertices=False).degree()\n",
    "\n",
    "    in_degs.append(in_deg)\n",
    "\n",
    "## Compute z (normalized within module degree)\n",
    "g.vs['in_deg'] = [in_degs[0][i] + in_degs[1][i] + in_degs[2][i] + in_degs[3][i] + in_degs[4][i] + in_degs[5][i] + in_degs[6][i] + in_degs[7][i] + in_degs[8][i] for i in range(g.vcount())]\n",
    "mu = []\n",
    "for i in range(num_communities):\n",
    "    mu.append(np.mean([x for x in in_degs[i] if x>0]))    \n",
    "\n",
    "sig = [] \n",
    "for i in range(num_communities):\n",
    "    sig.append(np.std([x for x in in_degs[i] if x>0],ddof=1))\n",
    "\n",
    "g.vs['z'] = [(v['in_deg']-mu[v['comm']])/sig[v['comm']] for v in g.vs]\n",
    "\n",
    "## Compute p (participation coefficients)\n",
    "g.vs['deg'] = g.degree()\n",
    "g.vs['out_deg'] = [v['deg'] - v['in_deg'] for v in g.vs]\n",
    "g.vs['p'] = [1-(v['in_deg']/v['deg'])**2-(v['out_deg']/v['deg'])**2 for v in g.vs]\n",
    "D = pd.DataFrame(np.array([g.vs['z'],g.vs['p']]).transpose(),columns=['z','p']).sort_values(by='z',ascending=False)\n",
    "D.head()"
   ]
  },
  {
   "cell_type": "code",
   "execution_count": 12,
   "metadata": {},
   "outputs": [
    {
     "data": {
      "image/png": "[encoded data removed]",
      "text/plain": [
       "<Figure size 1200x900 with 1 Axes>"
      ]
     },
     "metadata": {},
     "output_type": "display_data"
    }
   ],
   "source": [
    "## Figure 5.3(b) -- comparing the roles\n",
    "fig, ax = plt.subplots(figsize=(12,9))\n",
    "ax.scatter(g.vs['p'],g.vs['z'],marker='o',s=75, color='k')\n",
    "\n",
    "plt.plot([0, .5], [2.5, 2.5], color='k', linestyle='-', linewidth=2)\n",
    "plt.plot([.05, .05], [-.5, 2.4], color='k', linestyle='-', linewidth=2)\n",
    "\n",
    "ax.annotate('provincial hubs',(.3,3), fontsize=14)\n",
    "ax.annotate('peripheral non-hubs',(.3,1.8), fontsize=14)\n",
    "ax.annotate('ultra peripheral non-hubs',(0.025,0.0),xytext=(.1,-1), fontsize=14,\n",
    "             arrowprops = dict( arrowstyle=\"->\", connectionstyle=\"angle3,angleA=0,angleB=-90\"))\n",
    "\n",
    "plt.xlabel('participation coefficient (p)',fontsize=16)\n",
    "plt.ylabel('normalized within module degree (g)',fontsize=16);\n",
    "#plt.savefig('zachary_roles_2.eps')"
   ]
  },
  {
   "cell_type": "markdown",
   "metadata": {},
   "source": [
    "# Q6 Compare time complexities of various clustering algorithms (ECG, Louvain, Infomap, Label Propagation, Girvan-Newman, CNM) using an ABCD synthetic graph \n",
    "# with different number of nodes, say, n = 100; 200; 400; 800; 1600; : : :. Which algorithm is the slowest, which one is the fastest?"
   ]
  },
  {
   "cell_type": "code",
   "execution_count": 13,
   "metadata": {},
   "outputs": [],
   "source": [
    "import time\n",
    "def get_runtimes(graph, run_gn=True):\n",
    "    n = len(graph.vs())\n",
    "    print(f\"# Nodes: {n}\")\n",
    "    start = time.time()\n",
    "    ecg = graph.community_ecg()\n",
    "    elapsed = time.time() - start\n",
    "    print(f\"Elapsed time for ECG with n = {n}: {elapsed}\")\n",
    "\n",
    "    start = time.time()\n",
    "    louvain = graph.community_multilevel()\n",
    "    elapsed = time.time() - start\n",
    "    print(f\"Elapsed time for Louvain with n = {n}: {elapsed}\")\n",
    "\n",
    "    start = time.time()\n",
    "    info_map = graph.community_infomap()\n",
    "    elapsed = time.time() - start\n",
    "    print(f\"Elapsed time for info_map with n = {n}: {elapsed}\")\n",
    "\n",
    "    start = time.time()\n",
    "    lab_prop = graph.community_label_propagation()\n",
    "    elapsed = time.time() - start\n",
    "    print(f\"Elapsed time for lab_prop with n = {n}: {elapsed}\")\n",
    "\n",
    "    if run_gn:\n",
    "        start = time.time()\n",
    "        gn = graph.community_edge_betweenness()\n",
    "        elapsed = time.time() - start\n",
    "        print(f\"Elapsed time for Girvan-Newman with n = {n}: {elapsed}\")\n",
    "\n",
    "    start = time.time()\n",
    "    cnm = graph.community_fastgreedy()\n",
    "    elapsed = time.time() - start\n",
    "    print(f\"Elapsed time for cnm with n = {n}: {elapsed}\")"
   ]
  },
  {
   "cell_type": "code",
   "execution_count": 14,
   "metadata": {},
   "outputs": [
    {
     "name": "stdout",
     "output_type": "stream",
     "text": [
      "number of communities: 10\n",
      "# Nodes: 100\n",
      "Elapsed time for ECG with n = 100: 0.004001617431640625\n",
      "Elapsed time for Louvain with n = 100: 0.0\n",
      "Elapsed time for info_map with n = 100: 0.002000093460083008\n",
      "Elapsed time for lab_prop with n = 100: 0.0\n",
      "Elapsed time for Girvan-Newman with n = 100: 0.0010001659393310547\n",
      "Elapsed time for cnm with n = 100: 0.0\n"
     ]
    }
   ],
   "source": [
    "n = 100\n",
    "min_degree = int(np.ceil(n/200))\n",
    "max_degree = int(np.ceil(n/20))\n",
    "min_community = int(np.ceil(n/10*0.75))\n",
    "max_community = int(np.ceil(n/10*1.5))\n",
    "\n",
    "abcd_100_graph = generate_abcd(n=n, gamma=2.5, tau=1.5, min_degree=min_degree, max_degree=max_degree, min_community=min_community, max_community=max_community, mixing_parameter=0.1)\n",
    "get_runtimes(abcd_100_graph)\n",
    "\n",
    "#n = 1000\n",
    "#abcd_graph = generate_abcd(n=n, gamma=2.5, tau=1.5, min_degree=5, max_degree=50, min_community=75, max_community=150, mixing_parameter=0.1)"
   ]
  },
  {
   "cell_type": "code",
   "execution_count": 15,
   "metadata": {},
   "outputs": [
    {
     "name": "stdout",
     "output_type": "stream",
     "text": [
      "number of communities: 10\n",
      "# Nodes: 200\n",
      "Elapsed time for ECG with n = 200: 0.0070018768310546875\n",
      "Elapsed time for Louvain with n = 200: 0.0009999275207519531\n",
      "Elapsed time for info_map with n = 200: 0.01100301742553711\n",
      "Elapsed time for lab_prop with n = 200: 0.0010001659393310547\n",
      "Elapsed time for Girvan-Newman with n = 200: 0.004000663757324219\n",
      "Elapsed time for cnm with n = 200: 0.0\n"
     ]
    }
   ],
   "source": [
    "n = 200\n",
    "min_degree = int(np.ceil(n/200))\n",
    "max_degree = int(np.ceil(n/20))\n",
    "min_community = int(np.ceil(n/10*0.75))\n",
    "max_community = int(np.ceil(n/10*1.5))\n",
    "\n",
    "abcd_200_graph = generate_abcd(n=n, gamma=2.5, tau=1.5, min_degree=min_degree, max_degree=max_degree, min_community=min_community, max_community=max_community, mixing_parameter=0.1)\n",
    "get_runtimes(abcd_200_graph)"
   ]
  },
  {
   "cell_type": "code",
   "execution_count": 16,
   "metadata": {},
   "outputs": [
    {
     "name": "stdout",
     "output_type": "stream",
     "text": [
      "number of communities: 9\n",
      "# Nodes: 400\n",
      "Elapsed time for ECG with n = 400: 0.028007030487060547\n",
      "Elapsed time for Louvain with n = 400: 0.0009996891021728516\n",
      "Elapsed time for info_map with n = 400: 0.08501911163330078\n",
      "Elapsed time for lab_prop with n = 400: 0.0010004043579101562\n",
      "Elapsed time for Girvan-Newman with n = 400: 0.3870866298675537\n",
      "Elapsed time for cnm with n = 400: 0.0010008811950683594\n"
     ]
    }
   ],
   "source": [
    "n = 400\n",
    "min_degree = int(np.ceil(n/200))\n",
    "max_degree = int(np.ceil(n/20))\n",
    "min_community = int(np.ceil(n/10*0.75))\n",
    "max_community = int(np.ceil(n/10*1.5))\n",
    "\n",
    "abcd_400_graph = generate_abcd(n=n, gamma=2.5, tau=1.5, min_degree=min_degree, max_degree=max_degree, min_community=min_community, max_community=max_community, mixing_parameter=0.1)\n",
    "get_runtimes(abcd_400_graph)"
   ]
  },
  {
   "cell_type": "code",
   "execution_count": 17,
   "metadata": {},
   "outputs": [
    {
     "name": "stdout",
     "output_type": "stream",
     "text": [
      "number of communities: 11\n",
      "# Nodes: 800\n",
      "Elapsed time for ECG with n = 800: 0.09502148628234863\n",
      "Elapsed time for Louvain with n = 800: 0.0030007362365722656\n",
      "Elapsed time for info_map with n = 800: 0.13102936744689941\n",
      "Elapsed time for lab_prop with n = 800: 0.002000570297241211\n",
      "Elapsed time for Girvan-Newman with n = 800: 16.565280437469482\n",
      "Elapsed time for cnm with n = 800: 0.006001710891723633\n"
     ]
    }
   ],
   "source": [
    "n = 800\n",
    "min_degree = int(np.ceil(n/200))\n",
    "max_degree = int(np.ceil(n/20))\n",
    "min_community = int(np.ceil(n/10*0.75))\n",
    "max_community = int(np.ceil(n/10*1.5))\n",
    "\n",
    "abcd_800_graph = generate_abcd(n=n, gamma=2.5, tau=1.5, min_degree=min_degree, max_degree=max_degree, min_community=min_community, max_community=max_community, mixing_parameter=0.1)\n",
    "get_runtimes(abcd_800_graph)"
   ]
  },
  {
   "cell_type": "code",
   "execution_count": 18,
   "metadata": {},
   "outputs": [
    {
     "name": "stdout",
     "output_type": "stream",
     "text": [
      "number of communities: 10\n",
      "# Nodes: 1600\n",
      "Elapsed time for ECG with n = 1600: 0.3160703182220459\n",
      "Elapsed time for Louvain with n = 1600: 0.007001399993896484\n",
      "Elapsed time for info_map with n = 1600: 0.13503050804138184\n",
      "Elapsed time for lab_prop with n = 1600: 0.002000093460083008\n",
      "Elapsed time for cnm with n = 1600: 0.047010183334350586\n"
     ]
    }
   ],
   "source": [
    "n = 1600\n",
    "min_degree = int(np.ceil(n/200))\n",
    "max_degree = int(np.ceil(n/20))\n",
    "min_community = int(np.ceil(n/10*0.75))\n",
    "max_community = int(np.ceil(n/10*1.5))\n",
    "\n",
    "abcd_1600_graph = generate_abcd(n=n, gamma=2.5, tau=1.5, min_degree=min_degree, max_degree=max_degree, min_community=min_community, max_community=max_community, mixing_parameter=0.1)\n",
    "get_runtimes(abcd_1600_graph, run_gn=False) #Girvan Newman is very time consuming so we run it separately"
   ]
  },
  {
   "cell_type": "code",
   "execution_count": null,
   "metadata": {},
   "outputs": [],
   "source": [
    "# To see GN runtime for n=1600, run this command. On my system it ran for over an hour then crashed\n",
    "start = time.time()\n",
    "cnm = abcd_1600_graph.community_edge_betweenness()\n",
    "elapsed = time.time() - start\n",
    "print(f\"Elapsed time for cnm with n = {1600}: {elapsed}\")"
   ]
  },
  {
   "cell_type": "markdown",
   "metadata": {},
   "source": [
    "Q6 Answer: From the runs of our algorithms, label propagation is generally the fastest. This is expected, as label propagation is known as a fast algorithm, even if it is not necessarily the best one. In terms of the slowest algorithm, ECG is the slowest for n <= 400, while Girvan-Newman is the slowest for n>400"
   ]
  }
 ],
 "metadata": {
  "kernelspec": {
   "display_name": "Python 3",
   "language": "python",
   "name": "python3"
  },
  "language_info": {
   "codemirror_mode": {
    "name": "ipython",
    "version": 3
   },
   "file_extension": ".py",
   "mimetype": "text/x-python",
   "name": "python",
   "nbconvert_exporter": "python",
   "pygments_lexer": "ipython3",
   "version": "3.7.0"
  },
  "vscode": {
   "interpreter": {
    "hash": "e2b5b1f831ddc9aefa4b96d1686710814664aefd36c7fef437f9f148da185091"
   }
  }
 },
 "nbformat": 4,
 "nbformat_minor": 2
}
