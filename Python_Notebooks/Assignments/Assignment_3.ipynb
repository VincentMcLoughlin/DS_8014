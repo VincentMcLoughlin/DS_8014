{
 "cells": [
  {
   "cell_type": "markdown",
   "metadata": {},
   "source": [
    "Assignment #3:\n",
    "Problems 1, 2, 3, 5 from Chapter 3 (pages 88-89). First few cells are initial setup, questions are labeled below"
   ]
  },
  {
   "cell_type": "code",
   "execution_count": 73,
   "metadata": {},
   "outputs": [],
   "source": [
    "datadir='../../Datasets/'\n",
    "import igraph as ig\n",
    "import numpy as np\n",
    "import pandas as pd\n",
    "import matplotlib.pyplot as plt\n",
    "from sklearn.linear_model import LinearRegression\n",
    "from collections import Counter\n",
    "import plfit\n",
    "from scipy.stats import poisson"
   ]
  },
  {
   "cell_type": "code",
   "execution_count": 74,
   "metadata": {},
   "outputs": [],
   "source": [
    "## Directed degree centrality\n",
    "def degree_centrality(graph, weights=None):\n",
    "    n = graph.vcount()\n",
    "\n",
    "    if graph.is_directed():\n",
    "        dc = [sum(x)/(2*(n-1)) for x in zip(graph.strength(mode='in', weights=weights), \\\n",
    "            graph.strength(mode='out', weights=weights))]\n",
    "    else:\n",
    "        dc = [x/(n-1) for x in graph.strength(weights=weights)]\n",
    "\n",
    "    return dc"
   ]
  },
  {
   "cell_type": "code",
   "execution_count": 75,
   "metadata": {},
   "outputs": [
    {
     "data": {
      "text/html": [
       "<div>\n",
       "<style scoped>\n",
       "    .dataframe tbody tr th:only-of-type {\n",
       "        vertical-align: middle;\n",
       "    }\n",
       "\n",
       "    .dataframe tbody tr th {\n",
       "        vertical-align: top;\n",
       "    }\n",
       "\n",
       "    .dataframe thead th {\n",
       "        text-align: right;\n",
       "    }\n",
       "</style>\n",
       "<table border=\"1\" class=\"dataframe\">\n",
       "  <thead>\n",
       "    <tr style=\"text-align: right;\">\n",
       "      <th></th>\n",
       "      <th>orig_airport</th>\n",
       "      <th>dest_airport</th>\n",
       "      <th>total_passengers</th>\n",
       "    </tr>\n",
       "  </thead>\n",
       "  <tbody>\n",
       "    <tr>\n",
       "      <th>0</th>\n",
       "      <td>SFO</td>\n",
       "      <td>LAX</td>\n",
       "      <td>1442105</td>\n",
       "    </tr>\n",
       "    <tr>\n",
       "      <th>1</th>\n",
       "      <td>LAX</td>\n",
       "      <td>SFO</td>\n",
       "      <td>1438639</td>\n",
       "    </tr>\n",
       "    <tr>\n",
       "      <th>2</th>\n",
       "      <td>MCO</td>\n",
       "      <td>ATL</td>\n",
       "      <td>1436625</td>\n",
       "    </tr>\n",
       "    <tr>\n",
       "      <th>3</th>\n",
       "      <td>ATL</td>\n",
       "      <td>MCO</td>\n",
       "      <td>1424069</td>\n",
       "    </tr>\n",
       "    <tr>\n",
       "      <th>4</th>\n",
       "      <td>LAX</td>\n",
       "      <td>JFK</td>\n",
       "      <td>1277731</td>\n",
       "    </tr>\n",
       "  </tbody>\n",
       "</table>\n",
       "</div>"
      ],
      "text/plain": [
       "  orig_airport dest_airport  total_passengers\n",
       "0          SFO          LAX           1442105\n",
       "1          LAX          SFO           1438639\n",
       "2          MCO          ATL           1436625\n",
       "3          ATL          MCO           1424069\n",
       "4          LAX          JFK           1277731"
      ]
     },
     "execution_count": 75,
     "metadata": {},
     "output_type": "execute_result"
    }
   ],
   "source": [
    "## define edges color\n",
    "cls_edges = 'gainsboro'\n",
    "\n",
    "## we will consider 3 types of nodes with the following colors and sizes:\n",
    "cls = ['silver','dimgray','black']\n",
    "sz = [6,9,12]\n",
    "\n",
    "## read edges and build weighted directed graph\n",
    "D = pd.read_csv(datadir+'Airports/connections.csv')\n",
    "g = ig.Graph.TupleList([tuple(x) for x in D.values], directed=True, edge_attrs=['weight'])\n",
    "D.head() ## look at a few edges\n",
    "\n"
   ]
  },
  {
   "cell_type": "code",
   "execution_count": 76,
   "metadata": {},
   "outputs": [
    {
     "data": {
      "text/html": [
       "<div>\n",
       "<style scoped>\n",
       "    .dataframe tbody tr th:only-of-type {\n",
       "        vertical-align: middle;\n",
       "    }\n",
       "\n",
       "    .dataframe tbody tr th {\n",
       "        vertical-align: top;\n",
       "    }\n",
       "\n",
       "    .dataframe thead th {\n",
       "        text-align: right;\n",
       "    }\n",
       "</style>\n",
       "<table border=\"1\" class=\"dataframe\">\n",
       "  <thead>\n",
       "    <tr style=\"text-align: right;\">\n",
       "      <th></th>\n",
       "      <th>airport</th>\n",
       "      <th>lon</th>\n",
       "      <th>lat</th>\n",
       "      <th>state</th>\n",
       "      <th>city</th>\n",
       "    </tr>\n",
       "  </thead>\n",
       "  <tbody>\n",
       "    <tr>\n",
       "      <th>0</th>\n",
       "      <td>ABE</td>\n",
       "      <td>-75.440804</td>\n",
       "      <td>40.652100</td>\n",
       "      <td>PA</td>\n",
       "      <td>Allentown</td>\n",
       "    </tr>\n",
       "    <tr>\n",
       "      <th>1</th>\n",
       "      <td>ABI</td>\n",
       "      <td>-99.681900</td>\n",
       "      <td>32.411301</td>\n",
       "      <td>TX</td>\n",
       "      <td>Abilene</td>\n",
       "    </tr>\n",
       "    <tr>\n",
       "      <th>2</th>\n",
       "      <td>ABQ</td>\n",
       "      <td>-106.609001</td>\n",
       "      <td>35.040199</td>\n",
       "      <td>NM</td>\n",
       "      <td>Albuquerque</td>\n",
       "    </tr>\n",
       "    <tr>\n",
       "      <th>3</th>\n",
       "      <td>ABR</td>\n",
       "      <td>-98.421799</td>\n",
       "      <td>45.449100</td>\n",
       "      <td>SD</td>\n",
       "      <td>Aberdeen</td>\n",
       "    </tr>\n",
       "    <tr>\n",
       "      <th>4</th>\n",
       "      <td>ABY</td>\n",
       "      <td>-84.194504</td>\n",
       "      <td>31.535500</td>\n",
       "      <td>GA</td>\n",
       "      <td>Albany</td>\n",
       "    </tr>\n",
       "  </tbody>\n",
       "</table>\n",
       "</div>"
      ],
      "text/plain": [
       "  airport         lon        lat state         city\n",
       "0     ABE  -75.440804  40.652100    PA    Allentown\n",
       "1     ABI  -99.681900  32.411301    TX      Abilene\n",
       "2     ABQ -106.609001  35.040199    NM  Albuquerque\n",
       "3     ABR  -98.421799  45.449100    SD     Aberdeen\n",
       "4     ABY  -84.194504  31.535500    GA       Albany"
      ]
     },
     "execution_count": 76,
     "metadata": {},
     "output_type": "execute_result"
    }
   ],
   "source": [
    "#Attributes\n",
    "A = pd.read_csv(datadir+'Airports/airports_loc.csv')\n",
    "lookup = {k:v for v,k in enumerate(A['airport'])}\n",
    "l = [lookup[x] for x in g.vs()['name']]\n",
    "g.vs()['layout'] = [(A['lon'][i],A['lat'][i]) for i in l]\n",
    "g.vs()['state'] = [A['state'][i] for i in l]\n",
    "g.vs()['city'] = [A['city'][i] for i in l]\n",
    "A.head()"
   ]
  },
  {
   "cell_type": "code",
   "execution_count": 77,
   "metadata": {},
   "outputs": [
    {
     "name": "stdout",
     "output_type": "stream",
     "text": [
      "464 nodes and 12000 directed edges\n"
     ]
    }
   ],
   "source": [
    "## add a few more attributes for visualization\n",
    "g.vs()['size'] = sz[1]\n",
    "g.vs()['color'] = cls[1]\n",
    "g.es()['color'] = cls_edges\n",
    "g.es()['arrow_size'] = 0.33\n",
    "print(g.vcount(),'nodes and',g.ecount(),'directed edges')"
   ]
  },
  {
   "cell_type": "markdown",
   "metadata": {},
   "source": [
    "Q1 Find the top 5 ranked airports (with respect to the degree centrality)\n",
    "in the state of New York. Present results in the same form as\n",
    "what was done for the state of California|Table 3.3."
   ]
  },
  {
   "cell_type": "code",
   "execution_count": 79,
   "metadata": {},
   "outputs": [
    {
     "name": "stdout",
     "output_type": "stream",
     "text": [
      "13 nodes and 50 directed edges\n"
     ]
    }
   ],
   "source": [
    "## Build smaller subgraph 'G' for NY\n",
    "G = g.subgraph([v for v in g.vs() if v['state'] == 'NY'])\n",
    "\n",
    "## drop isolated vertices (i.e. without in-state connections)\n",
    "G = G.subgraph([v for v in G.vs() if v.degree()>0])\n",
    "\n",
    "## remove loops if any\n",
    "G = G.simplify(multiple=False)\n",
    "print(G.vcount(),'nodes and',G.ecount(),'directed edges')"
   ]
  },
  {
   "cell_type": "code",
   "execution_count": 80,
   "metadata": {},
   "outputs": [
    {
     "data": {
      "text/html": [
       "<div>\n",
       "<style scoped>\n",
       "    .dataframe tbody tr th:only-of-type {\n",
       "        vertical-align: middle;\n",
       "    }\n",
       "\n",
       "    .dataframe tbody tr th {\n",
       "        vertical-align: top;\n",
       "    }\n",
       "\n",
       "    .dataframe thead th {\n",
       "        text-align: right;\n",
       "    }\n",
       "</style>\n",
       "<table border=\"1\" class=\"dataframe\">\n",
       "  <thead>\n",
       "    <tr style=\"text-align: right;\">\n",
       "      <th></th>\n",
       "      <th>airport</th>\n",
       "      <th>degree</th>\n",
       "      <th>pagerank</th>\n",
       "      <th>authority</th>\n",
       "      <th>hub</th>\n",
       "      <th>between</th>\n",
       "      <th>closeness</th>\n",
       "    </tr>\n",
       "  </thead>\n",
       "  <tbody>\n",
       "    <tr>\n",
       "      <th>0</th>\n",
       "      <td>JFK</td>\n",
       "      <td>0.173125</td>\n",
       "      <td>0.342720</td>\n",
       "      <td>1.000000</td>\n",
       "      <td>0.373760</td>\n",
       "      <td>0.647727</td>\n",
       "      <td>0.705882</td>\n",
       "    </tr>\n",
       "    <tr>\n",
       "      <th>2</th>\n",
       "      <td>BUF</td>\n",
       "      <td>0.101629</td>\n",
       "      <td>0.195702</td>\n",
       "      <td>0.261299</td>\n",
       "      <td>1.000000</td>\n",
       "      <td>0.167929</td>\n",
       "      <td>0.705882</td>\n",
       "    </tr>\n",
       "    <tr>\n",
       "      <th>4</th>\n",
       "      <td>ROC</td>\n",
       "      <td>0.054908</td>\n",
       "      <td>0.109433</td>\n",
       "      <td>0.141841</td>\n",
       "      <td>0.546989</td>\n",
       "      <td>0.000000</td>\n",
       "      <td>0.631579</td>\n",
       "    </tr>\n",
       "    <tr>\n",
       "      <th>5</th>\n",
       "      <td>SYR</td>\n",
       "      <td>0.044959</td>\n",
       "      <td>0.097118</td>\n",
       "      <td>0.113975</td>\n",
       "      <td>0.459400</td>\n",
       "      <td>0.243687</td>\n",
       "      <td>0.750000</td>\n",
       "    </tr>\n",
       "    <tr>\n",
       "      <th>1</th>\n",
       "      <td>LGA</td>\n",
       "      <td>0.040011</td>\n",
       "      <td>0.108312</td>\n",
       "      <td>0.213367</td>\n",
       "      <td>0.078989</td>\n",
       "      <td>0.286616</td>\n",
       "      <td>0.750000</td>\n",
       "    </tr>\n",
       "  </tbody>\n",
       "</table>\n",
       "</div>"
      ],
      "text/plain": [
       "  airport    degree  pagerank  authority       hub   between  closeness\n",
       "0     JFK  0.173125  0.342720   1.000000  0.373760  0.647727   0.705882\n",
       "2     BUF  0.101629  0.195702   0.261299  1.000000  0.167929   0.705882\n",
       "4     ROC  0.054908  0.109433   0.141841  0.546989  0.000000   0.631579\n",
       "5     SYR  0.044959  0.097118   0.113975  0.459400  0.243687   0.750000\n",
       "1     LGA  0.040011  0.108312   0.213367  0.078989  0.286616   0.750000"
      ]
     },
     "execution_count": 80,
     "metadata": {},
     "output_type": "execute_result"
    }
   ],
   "source": [
    "# Compute normalized weights\n",
    "mw = np.max(G.es['weight'])\n",
    "G.es()['normalized_weight'] = [w/mw for w in G.es()['weight']]\n",
    "\n",
    "# Compute several centrality measures for NY subgraph G\n",
    "\n",
    "C = pd.DataFrame({'airport':G.vs()['name'], \\\n",
    "                   'degree': degree_centrality(G, weights='normalized_weight'),\\\n",
    "                    'pagerank': G.pagerank(weights='weight'), 'authority': G.authority_score(weights='weight'),\\\n",
    "                    'hub':G.hub_score(weights='weight'), 'between':G.betweenness(),\\\n",
    "                    'closeness':G.closeness()})\n",
    "\n",
    "n = G.vcount()\n",
    "C['between'] = [2*x/((n-1)*(n-2)) for x in C['between']]\n",
    "#Sort w.r.t degree centrality, look at top airports\n",
    "Cs = C.sort_values(by='degree', ascending=False)\n",
    "Cs.head()"
   ]
  },
  {
   "cell_type": "markdown",
   "metadata": {},
   "source": [
    "Q2 Generate Chung-Lu graph G(w) on n = 10;000 nodes and powerlaw\n",
    "degree distribution using the set of weights prescribed by (2.6)\n",
    "with gamma = 2:5, delta = 1, and max_delta = sqrt(n) = 100. (We experimented with\n",
    "this model in Section 2.5.) For each centrality measure (degree,\n",
    "pagerank, authority, hub, between, closeness) compute f(k), the\n",
    "average centrality measure over all nodes of degree k. Plot f(k)\n",
    "as a function of k. Is there any visible correlation between a given\n",
    "centrality measure and the degree of a node?"
   ]
  },
  {
   "cell_type": "code",
   "execution_count": 81,
   "metadata": {},
   "outputs": [],
   "source": [
    "## fast Chung-Lu: generate m edges w.r.t. distribution d\n",
    "def fastCL(d, m):\n",
    "    n = len(d)\n",
    "    s = np.sum(d)\n",
    "    p = [i/s for i in d]\n",
    "    target = m\n",
    "    tples = []\n",
    "    ## generate edges (tuples), drop collisions, until m edges are obtained.\n",
    "    while len(tples) < target:\n",
    "        s = target - len(tples)\n",
    "        e0 = np.random.choice(n, size=s, replace=True, p=p)\n",
    "        e1 = np.random.choice(n, size=s, replace=True, p=p)\n",
    "        tples.extend([(min(e0[i],e1[i]),max(e0[i],e1[i]), 1.0) for i in range(len(e0)) if e0[i]!=e1[i]]) ## ignore loops, 1.0 is edge weight\n",
    "        tples = list(set(tples)) ## drop collisions\n",
    "    return tples"
   ]
  },
  {
   "cell_type": "code",
   "execution_count": 84,
   "metadata": {},
   "outputs": [
    {
     "name": "stdout",
     "output_type": "stream",
     "text": [
      "isolates: 1870\n"
     ]
    }
   ],
   "source": [
    "## power law graph\n",
    "gamma = 2.5\n",
    "n = 10000\n",
    "\n",
    "## min and max degrees\n",
    "delta = 1\n",
    "Delta = np.sqrt(n)\n",
    "\n",
    "W = []\n",
    "for i in np.arange(1,n+1):\n",
    "    W.append(delta * (n/(i-1+n/(Delta/delta)**(gamma-1)))**(1/(gamma-1)))\n",
    "\n",
    "deg = W\n",
    "\n",
    "## generate graph with Chung-Lu model\n",
    "m = int(np.mean(deg)*n/2)\n",
    "tpl = fastCL(deg,m)\n",
    "g1 = ig.Graph.TupleList(tpl, weights=True)\n",
    "\n",
    "## number of isolated nodes (no edges)\n",
    "iso = n-g1.vcount()\n",
    "print('isolates:',iso)"
   ]
  },
  {
   "cell_type": "code",
   "execution_count": 91,
   "metadata": {},
   "outputs": [
    {
     "data": {
      "text/html": [
       "<div>\n",
       "<style scoped>\n",
       "    .dataframe tbody tr th:only-of-type {\n",
       "        vertical-align: middle;\n",
       "    }\n",
       "\n",
       "    .dataframe tbody tr th {\n",
       "        vertical-align: top;\n",
       "    }\n",
       "\n",
       "    .dataframe thead th {\n",
       "        text-align: right;\n",
       "    }\n",
       "</style>\n",
       "<table border=\"1\" class=\"dataframe\">\n",
       "  <thead>\n",
       "    <tr style=\"text-align: right;\">\n",
       "      <th></th>\n",
       "      <th>degree</th>\n",
       "      <th>degree_centrality</th>\n",
       "      <th>pagerank</th>\n",
       "      <th>authority</th>\n",
       "      <th>hub</th>\n",
       "      <th>between</th>\n",
       "      <th>closeness</th>\n",
       "    </tr>\n",
       "  </thead>\n",
       "  <tbody>\n",
       "    <tr>\n",
       "      <th>0</th>\n",
       "      <td>18</td>\n",
       "      <td>0.002214</td>\n",
       "      <td>0.000529</td>\n",
       "      <td>0.054908</td>\n",
       "      <td>0.054908</td>\n",
       "      <td>0.004651</td>\n",
       "      <td>0.231103</td>\n",
       "    </tr>\n",
       "    <tr>\n",
       "      <th>1</th>\n",
       "      <td>1</td>\n",
       "      <td>0.000123</td>\n",
       "      <td>0.000043</td>\n",
       "      <td>0.003952</td>\n",
       "      <td>0.003952</td>\n",
       "      <td>0.000000</td>\n",
       "      <td>0.187725</td>\n",
       "    </tr>\n",
       "    <tr>\n",
       "      <th>2</th>\n",
       "      <td>11</td>\n",
       "      <td>0.001353</td>\n",
       "      <td>0.000376</td>\n",
       "      <td>0.093905</td>\n",
       "      <td>0.093905</td>\n",
       "      <td>0.003979</td>\n",
       "      <td>0.232386</td>\n",
       "    </tr>\n",
       "    <tr>\n",
       "      <th>3</th>\n",
       "      <td>2</td>\n",
       "      <td>0.000246</td>\n",
       "      <td>0.000078</td>\n",
       "      <td>0.006977</td>\n",
       "      <td>0.006977</td>\n",
       "      <td>0.000052</td>\n",
       "      <td>0.188850</td>\n",
       "    </tr>\n",
       "    <tr>\n",
       "      <th>4</th>\n",
       "      <td>2</td>\n",
       "      <td>0.000246</td>\n",
       "      <td>0.000099</td>\n",
       "      <td>0.000702</td>\n",
       "      <td>0.000702</td>\n",
       "      <td>0.000236</td>\n",
       "      <td>0.165490</td>\n",
       "    </tr>\n",
       "  </tbody>\n",
       "</table>\n",
       "</div>"
      ],
      "text/plain": [
       "   degree  degree_centrality  pagerank  authority       hub   between  \\\n",
       "0      18           0.002214  0.000529   0.054908  0.054908  0.004651   \n",
       "1       1           0.000123  0.000043   0.003952  0.003952  0.000000   \n",
       "2      11           0.001353  0.000376   0.093905  0.093905  0.003979   \n",
       "3       2           0.000246  0.000078   0.006977  0.006977  0.000052   \n",
       "4       2           0.000246  0.000099   0.000702  0.000702  0.000236   \n",
       "\n",
       "   closeness  \n",
       "0   0.231103  \n",
       "1   0.187725  \n",
       "2   0.232386  \n",
       "3   0.188850  \n",
       "4   0.165490  "
      ]
     },
     "execution_count": 91,
     "metadata": {},
     "output_type": "execute_result"
    }
   ],
   "source": [
    "# Degree, \n",
    "# pagerank - need vertex list\n",
    "# authority - edge list associated with node?\n",
    "# hub, between, closeness\n",
    "\n",
    "mw = np.max(g1.es['weight'])\n",
    "g1.es()['normalized_weight'] = [w/mw for w in g1.es()['weight']]\n",
    "\n",
    "output_df = pd.DataFrame({ 'degree':g1.degree(), 'degree_centrality': degree_centrality(g1, weights='normalized_weight'),\\\n",
    "                    'pagerank': g1.pagerank(weights='weight'), 'authority': g1.authority_score(weights='weight'),\\\n",
    "                    'hub':g1.hub_score(weights='weight'), 'between':g1.betweenness(),\\\n",
    "                    'closeness':g1.closeness()})\n",
    "\n",
    "n = g1.vcount()\n",
    "output_df['between'] = [2*x/((n-1)*(n-2)) for x in output_df['between']]\n",
    "\n",
    "output_df.head()"
   ]
  },
  {
   "cell_type": "code",
   "execution_count": 92,
   "metadata": {},
   "outputs": [
    {
     "data": {
      "text/html": [
       "<div>\n",
       "<style scoped>\n",
       "    .dataframe tbody tr th:only-of-type {\n",
       "        vertical-align: middle;\n",
       "    }\n",
       "\n",
       "    .dataframe tbody tr th {\n",
       "        vertical-align: top;\n",
       "    }\n",
       "\n",
       "    .dataframe thead th {\n",
       "        text-align: right;\n",
       "    }\n",
       "</style>\n",
       "<table border=\"1\" class=\"dataframe\">\n",
       "  <thead>\n",
       "    <tr style=\"text-align: right;\">\n",
       "      <th></th>\n",
       "      <th>degree</th>\n",
       "      <th>degree_centrality</th>\n",
       "      <th>pagerank</th>\n",
       "      <th>authority</th>\n",
       "      <th>hub</th>\n",
       "      <th>between</th>\n",
       "      <th>closeness</th>\n",
       "    </tr>\n",
       "  </thead>\n",
       "  <tbody>\n",
       "    <tr>\n",
       "      <th>0</th>\n",
       "      <td>1</td>\n",
       "      <td>0.000123</td>\n",
       "      <td>0.000058</td>\n",
       "      <td>0.003984</td>\n",
       "      <td>0.003984</td>\n",
       "      <td>0.000000</td>\n",
       "      <td>0.252481</td>\n",
       "    </tr>\n",
       "    <tr>\n",
       "      <th>1</th>\n",
       "      <td>2</td>\n",
       "      <td>0.000246</td>\n",
       "      <td>0.000085</td>\n",
       "      <td>0.007642</td>\n",
       "      <td>0.007642</td>\n",
       "      <td>0.000118</td>\n",
       "      <td>0.195049</td>\n",
       "    </tr>\n",
       "    <tr>\n",
       "      <th>2</th>\n",
       "      <td>3</td>\n",
       "      <td>0.000369</td>\n",
       "      <td>0.000114</td>\n",
       "      <td>0.011162</td>\n",
       "      <td>0.011162</td>\n",
       "      <td>0.000252</td>\n",
       "      <td>0.190537</td>\n",
       "    </tr>\n",
       "    <tr>\n",
       "      <th>3</th>\n",
       "      <td>4</td>\n",
       "      <td>0.000492</td>\n",
       "      <td>0.000140</td>\n",
       "      <td>0.015182</td>\n",
       "      <td>0.015182</td>\n",
       "      <td>0.000394</td>\n",
       "      <td>0.197896</td>\n",
       "    </tr>\n",
       "    <tr>\n",
       "      <th>4</th>\n",
       "      <td>5</td>\n",
       "      <td>0.000615</td>\n",
       "      <td>0.000169</td>\n",
       "      <td>0.019054</td>\n",
       "      <td>0.019054</td>\n",
       "      <td>0.000587</td>\n",
       "      <td>0.202488</td>\n",
       "    </tr>\n",
       "  </tbody>\n",
       "</table>\n",
       "</div>"
      ],
      "text/plain": [
       "   degree  degree_centrality  pagerank  authority       hub   between  \\\n",
       "0       1           0.000123  0.000058   0.003984  0.003984  0.000000   \n",
       "1       2           0.000246  0.000085   0.007642  0.007642  0.000118   \n",
       "2       3           0.000369  0.000114   0.011162  0.011162  0.000252   \n",
       "3       4           0.000492  0.000140   0.015182  0.015182  0.000394   \n",
       "4       5           0.000615  0.000169   0.019054  0.019054  0.000587   \n",
       "\n",
       "   closeness  \n",
       "0   0.252481  \n",
       "1   0.195049  \n",
       "2   0.190537  \n",
       "3   0.197896  \n",
       "4   0.202488  "
      ]
     },
     "execution_count": 92,
     "metadata": {},
     "output_type": "execute_result"
    }
   ],
   "source": [
    "avg_df = output_df.groupby(by=[\"degree\"], as_index = False).mean()\n",
    "avg_df.head()"
   ]
  },
  {
   "cell_type": "code",
   "execution_count": 93,
   "metadata": {},
   "outputs": [
    {
     "data": {
      "image/png": "[encoded data removed]",
      "text/plain": [
       "<Figure size 640x480 with 1 Axes>"
      ]
     },
     "metadata": {},
     "output_type": "display_data"
    }
   ],
   "source": [
    "import matplotlib.pyplot as plt\n",
    "\n",
    "plt.plot(avg_df[\"degree\"], avg_df[\"degree_centrality\"], color='black')\n",
    "plt.title('Degree vs Average Degree Centrality')\n",
    "plt.xlabel('Degree',fontsize=14)\n",
    "plt.ylabel('Average Degree Centrality',fontsize=14);\n",
    "plt.show()\n"
   ]
  },
  {
   "cell_type": "code",
   "execution_count": 94,
   "metadata": {},
   "outputs": [
    {
     "data": {
      "image/png": "[encoded data removed]",
      "text/plain": [
       "<Figure size 640x480 with 1 Axes>"
      ]
     },
     "metadata": {},
     "output_type": "display_data"
    }
   ],
   "source": [
    "plt.plot(avg_df[\"degree\"], avg_df[\"pagerank\"], color='black')\n",
    "plt.title('Degree vs Average Pagerank')\n",
    "plt.xlabel('Degree',fontsize=14)\n",
    "plt.ylabel('Average Pagerank',fontsize=14);\n",
    "plt.show()"
   ]
  },
  {
   "cell_type": "code",
   "execution_count": 95,
   "metadata": {},
   "outputs": [
    {
     "data": {
      "image/png": "[encoded data removed]",
      "text/plain": [
       "<Figure size 640x480 with 1 Axes>"
      ]
     },
     "metadata": {},
     "output_type": "display_data"
    }
   ],
   "source": [
    "plt.plot(avg_df[\"degree\"], avg_df[\"authority\"], color='black')\n",
    "plt.title('Degree vs Average Authority')\n",
    "plt.xlabel('Degree',fontsize=14)\n",
    "plt.ylabel('Average Authority',fontsize=14);\n",
    "plt.show()"
   ]
  },
  {
   "cell_type": "code",
   "execution_count": 96,
   "metadata": {},
   "outputs": [
    {
     "data": {
      "image/png": "[encoded data removed]",
      "text/plain": [
       "<Figure size 640x480 with 1 Axes>"
      ]
     },
     "metadata": {},
     "output_type": "display_data"
    }
   ],
   "source": [
    "plt.plot(avg_df[\"degree\"], avg_df[\"hub\"], color='black')\n",
    "plt.title('Degree vs Average Hub Score')\n",
    "plt.xlabel('Degree',fontsize=14)\n",
    "plt.ylabel('Average Hub Score',fontsize=14)\n",
    "plt.show()"
   ]
  },
  {
   "cell_type": "code",
   "execution_count": 97,
   "metadata": {},
   "outputs": [
    {
     "data": {
      "image/png": "[encoded data removed]",
      "text/plain": [
       "<Figure size 640x480 with 1 Axes>"
      ]
     },
     "metadata": {},
     "output_type": "display_data"
    }
   ],
   "source": [
    "plt.plot(avg_df[\"degree\"], avg_df[\"between\"], color='black')\n",
    "plt.title('Degree vs Average Betweenness')\n",
    "plt.xlabel('Degree',fontsize=14)\n",
    "plt.ylabel('Average Betweenness',fontsize=14)\n",
    "plt.show()"
   ]
  },
  {
   "cell_type": "code",
   "execution_count": 98,
   "metadata": {},
   "outputs": [
    {
     "data": {
      "image/png": "[encoded data removed]",
      "text/plain": [
       "<Figure size 640x480 with 1 Axes>"
      ]
     },
     "metadata": {},
     "output_type": "display_data"
    }
   ],
   "source": [
    "plt.plot(avg_df[\"degree\"], avg_df[\"closeness\"], color='black')\n",
    "plt.title('Degree vs Average Closeness')\n",
    "plt.xlabel('Degree',fontsize=14)\n",
    "plt.ylabel('Average Closeness',fontsize=14)\n",
    "plt.show()"
   ]
  },
  {
   "cell_type": "markdown",
   "metadata": {},
   "source": [
    "Centrality measure correlation discussion\n",
    "\n",
    "Degree Centrality: Here there is a direct linear correlation.\n",
    "\n",
    "Pagerank: There is a slightly less linear correlation, but still more linear than the rest of the measures. \n",
    "\n",
    "Authority: Erratic linear correlation as the degree increases\n",
    "\n",
    "Hub: Erratic linear correlation as the degree increases\n",
    "\n",
    "Betweenness: Erratic linear correlation as the degree increases\n",
    "\n",
    "Closeness: Poor linear correlation at very low degrees, with an erratically linear correlation elsewhere.\n",
    "\n",
    "\n",
    "\n",
    "Degree centrality and pagerank both have strong linear correlation, with the degree centrality in particular showing a linear relationship. Generally speaking for all scores, higher degrees tend to lead to better scores on our centrality measures. This is to be expected as nodes with higher degrees are more likely to form important connections just by virtue of having more neighbours."
   ]
  },
  {
   "cell_type": "markdown",
   "metadata": {},
   "source": [
    "Q3 The original airport dataset (464 nodes, 12,000 directed weighted\n",
    "edges) is not strongly connected but it is almost weakly connected.\n",
    "There are two weak components: the giant one consisting of all but\n",
    "two airports, and the small one with two airports that only link to\n",
    "each other. Remove the two nodes to make the graph weakly connected.\n",
    "For each centrality measure (degree, pagerank, authority,\n",
    "hub, between, closeness) perform the following experiment: sort all\n",
    "nodes with respect to a given centrality measure. How many nodes\n",
    "with the largest score do we need to remove so that the graph is no\n",
    "longer weakly connected? Compare this with the number of nodes\n",
    "with the smallest score that need to be removed."
   ]
  },
  {
   "cell_type": "code",
   "execution_count": 99,
   "metadata": {},
   "outputs": [
    {
     "name": "stdout",
     "output_type": "stream",
     "text": [
      "464 nodes and 12000 directed edges\n",
      "462 nodes and 11999 directed edges\n",
      "True\n"
     ]
    }
   ],
   "source": [
    "## read edges and build weighted directed graph\n",
    "D = pd.read_csv(datadir+'Airports/connections.csv')\n",
    "g = ig.Graph.TupleList([tuple(x) for x in D.values], directed=True, edge_attrs=['weight'])\n",
    "D.head() ## look at a few edges\n",
    "## read vertex attributes and add to graph\n",
    "A = pd.read_csv(datadir+'Airports/airports_loc.csv')\n",
    "lookup = {k:v for v,k in enumerate(A['airport'])}\n",
    "l = [lookup[x] for x in g.vs()['name']]\n",
    "g.vs()['layout'] = [(A['lon'][i],A['lat'][i]) for i in l]\n",
    "g.vs()['state'] = [A['state'][i] for i in l]\n",
    "g.vs()['city'] = [A['city'][i] for i in l]\n",
    "A.head() ## first few rows in A\n",
    "print(g.vcount(),'nodes and',g.ecount(),'directed edges')\n",
    "\n",
    "full_graph = g\n",
    "weak_component = full_graph.connected_components(mode=\"weak\")[0]\n",
    "weak_subgraph = full_graph.subgraph(weak_component)\n",
    "print(weak_subgraph.vcount(),'nodes and',weak_subgraph.ecount(),'directed edges')\n",
    "print(weak_subgraph.is_connected(mode=\"weak\"))"
   ]
  },
  {
   "cell_type": "code",
   "execution_count": 100,
   "metadata": {},
   "outputs": [
    {
     "data": {
      "text/html": [
       "<div>\n",
       "<style scoped>\n",
       "    .dataframe tbody tr th:only-of-type {\n",
       "        vertical-align: middle;\n",
       "    }\n",
       "\n",
       "    .dataframe tbody tr th {\n",
       "        vertical-align: top;\n",
       "    }\n",
       "\n",
       "    .dataframe thead th {\n",
       "        text-align: right;\n",
       "    }\n",
       "</style>\n",
       "<table border=\"1\" class=\"dataframe\">\n",
       "  <thead>\n",
       "    <tr style=\"text-align: right;\">\n",
       "      <th></th>\n",
       "      <th>vertex_index</th>\n",
       "      <th>Name</th>\n",
       "      <th>degree_centrality</th>\n",
       "      <th>pagerank</th>\n",
       "      <th>authority</th>\n",
       "      <th>hub</th>\n",
       "      <th>between</th>\n",
       "      <th>closeness</th>\n",
       "    </tr>\n",
       "  </thead>\n",
       "  <tbody>\n",
       "    <tr>\n",
       "      <th>0</th>\n",
       "      <td>0</td>\n",
       "      <td>SFO</td>\n",
       "      <td>0.019337</td>\n",
       "      <td>0.017986</td>\n",
       "      <td>0.572323</td>\n",
       "      <td>0.574479</td>\n",
       "      <td>3718.913507</td>\n",
       "      <td>0.544917</td>\n",
       "    </tr>\n",
       "    <tr>\n",
       "      <th>1</th>\n",
       "      <td>1</td>\n",
       "      <td>LAX</td>\n",
       "      <td>0.029707</td>\n",
       "      <td>0.026628</td>\n",
       "      <td>0.765373</td>\n",
       "      <td>0.768892</td>\n",
       "      <td>5479.365466</td>\n",
       "      <td>0.559466</td>\n",
       "    </tr>\n",
       "    <tr>\n",
       "      <th>2</th>\n",
       "      <td>2</td>\n",
       "      <td>MCO</td>\n",
       "      <td>0.021867</td>\n",
       "      <td>0.019390</td>\n",
       "      <td>0.564857</td>\n",
       "      <td>0.565243</td>\n",
       "      <td>2988.693784</td>\n",
       "      <td>0.551435</td>\n",
       "    </tr>\n",
       "    <tr>\n",
       "      <th>3</th>\n",
       "      <td>3</td>\n",
       "      <td>ATL</td>\n",
       "      <td>0.053397</td>\n",
       "      <td>0.051320</td>\n",
       "      <td>1.000000</td>\n",
       "      <td>1.000000</td>\n",
       "      <td>9400.702876</td>\n",
       "      <td>0.593308</td>\n",
       "    </tr>\n",
       "    <tr>\n",
       "      <th>4</th>\n",
       "      <td>4</td>\n",
       "      <td>JFK</td>\n",
       "      <td>0.016892</td>\n",
       "      <td>0.014496</td>\n",
       "      <td>0.445176</td>\n",
       "      <td>0.446092</td>\n",
       "      <td>1263.494964</td>\n",
       "      <td>0.532333</td>\n",
       "    </tr>\n",
       "  </tbody>\n",
       "</table>\n",
       "</div>"
      ],
      "text/plain": [
       "   vertex_index Name  degree_centrality  pagerank  authority       hub  \\\n",
       "0             0  SFO           0.019337  0.017986   0.572323  0.574479   \n",
       "1             1  LAX           0.029707  0.026628   0.765373  0.768892   \n",
       "2             2  MCO           0.021867  0.019390   0.564857  0.565243   \n",
       "3             3  ATL           0.053397  0.051320   1.000000  1.000000   \n",
       "4             4  JFK           0.016892  0.014496   0.445176  0.446092   \n",
       "\n",
       "       between  closeness  \n",
       "0  3718.913507   0.544917  \n",
       "1  5479.365466   0.559466  \n",
       "2  2988.693784   0.551435  \n",
       "3  9400.702876   0.593308  \n",
       "4  1263.494964   0.532333  "
      ]
     },
     "execution_count": 100,
     "metadata": {},
     "output_type": "execute_result"
    }
   ],
   "source": [
    "def get_df(g):\n",
    "\n",
    "    mw = np.max(g.es['weight'])\n",
    "    g.es()['normalized_weight'] = [w/mw for w in g.es()['weight']]\n",
    "\n",
    "    g_df = pd.DataFrame({ 'vertex_index': g.vs().indices,  'Name': g.vs()[\"name\"], \\\n",
    "                   'degree_centrality': degree_centrality(g, weights='normalized_weight'),\\\n",
    "                    'pagerank': g.pagerank(weights='weight'), 'authority': g.authority_score(weights='weight'),\\\n",
    "                    'hub':g.hub_score(weights='weight'), 'between':g.betweenness(),\\\n",
    "                    'closeness':g.closeness()})\n",
    "\n",
    "    return g_df\n",
    "\n",
    "weak_subgraph_df = get_df(weak_subgraph)\n",
    "columns = weak_subgraph_df.columns\n",
    "metrics = columns[2:]\n",
    "\n",
    "weak_subgraph_df.head()"
   ]
  },
  {
   "cell_type": "code",
   "execution_count": 7,
   "metadata": {},
   "outputs": [
    {
     "name": "stdout",
     "output_type": "stream",
     "text": [
      "DESCENDING\n",
      "Removed 2 for degree_centrality\n",
      "Removed 2 for pagerank\n",
      "Removed 2 for authority\n",
      "Removed 2 for hub\n",
      "Removed 4 for between\n",
      "Removed 1 for closeness\n",
      "ASCENDING\n",
      "Removed 178 for degree_centrality\n",
      "Removed 39 for pagerank\n",
      "Removed 6 for authority\n",
      "Removed 11 for hub\n",
      "Removed 66 for between\n",
      "Removed 461 for closeness\n"
     ]
    }
   ],
   "source": [
    "def remove_indices(sort_ascending):\n",
    "\n",
    "    for col_name in metrics:\n",
    "\n",
    "        new_subgraph = weak_subgraph.copy()\n",
    "        new_subgraph_df = weak_subgraph_df\n",
    "        connected_result = new_subgraph.is_connected(mode=\"weak\")\n",
    "        num_removed = 0\n",
    "        \n",
    "        while connected_result:\n",
    "            new_subgraph_df = get_df(new_subgraph)\n",
    "            sorted_df = new_subgraph_df.sort_values(by=col_name, ascending=sort_ascending)\n",
    "            index_to_remove = sorted_df.iloc[0][\"vertex_index\"]\n",
    "            new_subgraph.delete_vertices(index_to_remove)\n",
    "            connected_result = new_subgraph.is_connected(mode=\"weak\")\n",
    "            \n",
    "            num_removed += 1\n",
    "\n",
    "            if num_removed == 461:\n",
    "                break\n",
    "\n",
    "        print(f\"Removed {num_removed} for {col_name}\")\n",
    "\n",
    "print(\"DESCENDING\")\n",
    "remove_indices(sort_ascending=False)\n",
    "\n",
    "print(\"ASCENDING\")\n",
    "remove_indices(sort_ascending=True)"
   ]
  },
  {
   "cell_type": "markdown",
   "metadata": {},
   "source": [
    "We see across all metrics that we need to remove far fewer important nodes to cause a graph to be no longer connected when compared to the least significant nodes. This is to be expected as the most significant nodes are much more likely to be key connections in the graph where there are no other nodes that make the same connections."
   ]
  },
  {
   "cell_type": "markdown",
   "metadata": {},
   "source": [
    "Q5: From the airport graph, generate a state-to-state graph by collapsing\n",
    "every node in a state to a single node, adding the edge weights\n",
    "and removing loops (edges between airports in the same state). In\n",
    "igraph, the function contract vertices() can be used to do this.\n",
    "Let G be this new graph with 51 nodes (the 50 states plus DC).\n",
    "\n",
    "a) Is G weakly connected? Strongly connected?\n",
    "b) Which state has the most incoming passengers? The most departing\n",
    "passengers?\n",
    "c) Which pair of two states, x and y, have the most passengers\n",
    "travelling from x to y (directed weight)?\n",
    "d) Recreate Table 3.3 for graph G. Which states have the highest\n",
    "degree centrality? Betweenness centrality?"
   ]
  },
  {
   "cell_type": "code",
   "execution_count": 16,
   "metadata": {},
   "outputs": [
    {
     "name": "stdout",
     "output_type": "stream",
     "text": [
      "464 nodes and 12000 directed edges\n"
     ]
    }
   ],
   "source": [
    "## read edges and build weighted directed graph\n",
    "D = pd.read_csv(datadir+'Airports/connections.csv')\n",
    "g = ig.Graph.TupleList([tuple(x) for x in D.values], directed=True, edge_attrs=['weight'])\n",
    "D.head() ## look at a few edges\n",
    "## read vertex attributes and add to graph\n",
    "A = pd.read_csv(datadir+'Airports/airports_loc.csv')\n",
    "lookup = {k:v for v,k in enumerate(A['airport'])}\n",
    "l = [lookup[x] for x in g.vs()['name']]\n",
    "g.vs()['layout'] = [(A['lon'][i],A['lat'][i]) for i in l]\n",
    "g.vs()['state'] = [A['state'][i] for i in l]\n",
    "g.vs()['city'] = [A['city'][i] for i in l]\n",
    "A.head() ## first few rows in A\n",
    "print(g.vcount(),'nodes and',g.ecount(),'directed edges')\n",
    "\n",
    "total_graph = g"
   ]
  },
  {
   "cell_type": "code",
   "execution_count": 37,
   "metadata": {},
   "outputs": [
    {
     "name": "stdout",
     "output_type": "stream",
     "text": [
      "51 nodes and 12000 directed edges\n"
     ]
    }
   ],
   "source": [
    "total_df = pd.DataFrame({ 'vertex_index': total_graph.vs().indices,  'name': total_graph.vs()[\"name\"], 'state': total_graph.vs()[\"state\"]}).sort_values(by=\"state\")\n",
    "\n",
    "mapping_list = [None] * len(total_df)\n",
    "total_df[\"state_index\"] = mapping_list\n",
    "\n",
    "states = total_df[\"state\"].unique()\n",
    "\n",
    "\n",
    "cur_state = total_df.iloc[0][\"state\"]\n",
    "cur_state_index = 0\n",
    "state_new_index_map = dict()\n",
    "for v_index, state in zip(total_df[\"vertex_index\"], total_df[\"state\"]):\n",
    "    \n",
    "    state_new_index_map[cur_state_index] = cur_state\n",
    "    if cur_state != state:        \n",
    "        cur_state = state\n",
    "        cur_state_index += 1\n",
    "\n",
    "    mapping_list[v_index] = cur_state_index\n",
    "\n",
    "collapsed_graph = total_graph.copy()\n",
    "collapsed_graph.contract_vertices(mapping_list)\n",
    "\n",
    "for key in state_new_index_map:\n",
    "    collapsed_graph.vs[key][\"state\"] = state_new_index_map[key]\n",
    "\n",
    "print(collapsed_graph.vcount(),'nodes and',collapsed_graph.ecount(),'directed edges')"
   ]
  },
  {
   "cell_type": "code",
   "execution_count": 21,
   "metadata": {},
   "outputs": [
    {
     "name": "stdout",
     "output_type": "stream",
     "text": [
      "Graph is strongly connected: True\n",
      "Graph is weakly connected: True\n"
     ]
    }
   ],
   "source": [
    "# a) is graph weakly connected? Strongly connected?\n",
    "print(f\"Graph is strongly connected: {collapsed_graph.is_connected(mode='strong')}\")\n",
    "print(f\"Graph is weakly connected: {collapsed_graph.is_connected(mode='weak')}\")"
   ]
  },
  {
   "cell_type": "code",
   "execution_count": 46,
   "metadata": {},
   "outputs": [
    {
     "name": "stdout",
     "output_type": "stream",
     "text": [
      "Max incoming state is: TX Incoming Passengers: 1231.0\n",
      "Max outgoing state is TX Outgoing Passengers: 967.0\n"
     ]
    }
   ],
   "source": [
    "#b) which state has the most incoming passengers? The most departing passengers?\n",
    "\n",
    "max_incoming = 0\n",
    "max_incoming_state = \"\"\n",
    "max_outgoing = 0\n",
    "max_outgoing_state = \"\"\n",
    "\n",
    "for v in collapsed_graph.vs():\n",
    "    in_total_passengers = v.strength(mode=\"in\")\n",
    "\n",
    "    if in_total_passengers > max_incoming:\n",
    "        max_incoming_state = v[\"state\"]\n",
    "        max_incoming = in_total_passengers\n",
    "\n",
    "    out_total_passengers = v.strength(mode=\"out\")\n",
    "\n",
    "    if out_total_passengers > max_outgoing:\n",
    "        max_outgoing_state = v[\"state\"]\n",
    "        max_outgoing = out_total_passengers\n",
    "\n",
    "print(f\"Max incoming state is: {max_incoming_state} Incoming Passengers: {max_incoming}\")\n",
    "print(f\"Max outgoing state is {max_outgoing_state} Outgoing Passengers: {max_outgoing}\")\n"
   ]
  },
  {
   "cell_type": "code",
   "execution_count": 62,
   "metadata": {},
   "outputs": [
    {
     "name": "stdout",
     "output_type": "stream",
     "text": [
      "Max from TX to WI\n",
      "Max Passengers: 248.0\n"
     ]
    }
   ],
   "source": [
    "#c) Which pair of two states, x and y, have the most passengers travelling from x to y (directed weight)?\n",
    "vertex_list = collapsed_graph.vs()\n",
    "index_1 = 0\n",
    "index_2 = 0\n",
    "\n",
    "max_travellers = 0\n",
    "max_states = []\n",
    "while index_1 < len(vertex_list):\n",
    "    \n",
    "    index_2 = 0\n",
    "\n",
    "    if index_1 == index_2:\n",
    "        index_1 += 1\n",
    "        continue\n",
    "\n",
    "    #print(f\"Evaluating {vertex_list[index_1]['state']}\") #debug statement\n",
    "\n",
    "    while index_2 < len(vertex_list):\n",
    "\n",
    "        sub_graph = collapsed_graph.subgraph([index_1, index_2])\n",
    "        subgraph_vs = sub_graph.vs()\n",
    "\n",
    "        if len(subgraph_vs) < 2:\n",
    "            index_2 += 1\n",
    "            continue\n",
    "\n",
    "        x = subgraph_vs[0]\n",
    "        y = subgraph_vs[1]\n",
    "        \n",
    "        x_to_y_passengers = x.strength(mode=\"out\")\n",
    "        x_to_y_states = [x[\"state\"], y[\"state\"]]\n",
    "\n",
    "        #print(f\"Evaluating {vertex_list[index_1]['state']} to {vertex_list[index_2]['state']} Passengers: {x_to_y_passengers}\") #debug statement\n",
    "\n",
    "        if max_travellers < x_to_y_passengers:\n",
    "\n",
    "            max_travellers = x_to_y_passengers\n",
    "            max_states = x_to_y_states\n",
    "\n",
    "        index_2 += 2\n",
    "\n",
    "    index_1 += 1\n",
    "\n",
    "print(f\"Max from {max_states[0]} to {max_states[1]}\")\n",
    "print(f\"Max Passengers: {max_travellers}\")"
   ]
  },
  {
   "cell_type": "code",
   "execution_count": 102,
   "metadata": {},
   "outputs": [
    {
     "data": {
      "text/html": [
       "<div>\n",
       "<style scoped>\n",
       "    .dataframe tbody tr th:only-of-type {\n",
       "        vertical-align: middle;\n",
       "    }\n",
       "\n",
       "    .dataframe tbody tr th {\n",
       "        vertical-align: top;\n",
       "    }\n",
       "\n",
       "    .dataframe thead th {\n",
       "        text-align: right;\n",
       "    }\n",
       "</style>\n",
       "<table border=\"1\" class=\"dataframe\">\n",
       "  <thead>\n",
       "    <tr style=\"text-align: right;\">\n",
       "      <th></th>\n",
       "      <th>state</th>\n",
       "      <th>degree_centrality</th>\n",
       "      <th>pagerank</th>\n",
       "      <th>authority</th>\n",
       "      <th>hub</th>\n",
       "      <th>between</th>\n",
       "      <th>closeness</th>\n",
       "    </tr>\n",
       "  </thead>\n",
       "  <tbody>\n",
       "    <tr>\n",
       "      <th>43</th>\n",
       "      <td>TX</td>\n",
       "      <td>0.824127</td>\n",
       "      <td>0.093499</td>\n",
       "      <td>1.000000</td>\n",
       "      <td>1.000000</td>\n",
       "      <td>0.089665</td>\n",
       "      <td>0.980392</td>\n",
       "    </tr>\n",
       "    <tr>\n",
       "      <th>4</th>\n",
       "      <td>CA</td>\n",
       "      <td>0.818358</td>\n",
       "      <td>0.086750</td>\n",
       "      <td>0.954129</td>\n",
       "      <td>0.953015</td>\n",
       "      <td>0.066417</td>\n",
       "      <td>0.943396</td>\n",
       "    </tr>\n",
       "    <tr>\n",
       "      <th>9</th>\n",
       "      <td>FL</td>\n",
       "      <td>0.656727</td>\n",
       "      <td>0.073113</td>\n",
       "      <td>0.555008</td>\n",
       "      <td>0.554986</td>\n",
       "      <td>0.044062</td>\n",
       "      <td>0.943396</td>\n",
       "    </tr>\n",
       "    <tr>\n",
       "      <th>10</th>\n",
       "      <td>GA</td>\n",
       "      <td>0.510587</td>\n",
       "      <td>0.061061</td>\n",
       "      <td>0.433834</td>\n",
       "      <td>0.433670</td>\n",
       "      <td>0.014013</td>\n",
       "      <td>0.961538</td>\n",
       "    </tr>\n",
       "    <tr>\n",
       "      <th>14</th>\n",
       "      <td>IL</td>\n",
       "      <td>0.483197</td>\n",
       "      <td>0.059022</td>\n",
       "      <td>0.402050</td>\n",
       "      <td>0.401475</td>\n",
       "      <td>0.053512</td>\n",
       "      <td>1.000000</td>\n",
       "    </tr>\n",
       "  </tbody>\n",
       "</table>\n",
       "</div>"
      ],
      "text/plain": [
       "   state  degree_centrality  pagerank  authority       hub   between  \\\n",
       "43    TX           0.824127  0.093499   1.000000  1.000000  0.089665   \n",
       "4     CA           0.818358  0.086750   0.954129  0.953015  0.066417   \n",
       "9     FL           0.656727  0.073113   0.555008  0.554986  0.044062   \n",
       "10    GA           0.510587  0.061061   0.433834  0.433670  0.014013   \n",
       "14    IL           0.483197  0.059022   0.402050  0.401475  0.053512   \n",
       "\n",
       "    closeness  \n",
       "43   0.980392  \n",
       "4    0.943396  \n",
       "9    0.943396  \n",
       "10   0.961538  \n",
       "14   1.000000  "
      ]
     },
     "execution_count": 102,
     "metadata": {},
     "output_type": "execute_result"
    }
   ],
   "source": [
    "#d) Recreate Table 3.3 for graph G. Which states have the highest degree centrality? Betweenness centrality?\n",
    "mw = np.max(collapsed_graph.es['weight'])\n",
    "collapsed_graph.es()['normalized_weight'] = [w/mw for w in collapsed_graph.es()['weight']]\n",
    "\n",
    "collapsed_df = pd.DataFrame({ 'state': collapsed_graph.vs()[\"state\"],\\\n",
    "                'degree_centrality': degree_centrality(collapsed_graph, weights='normalized_weight'),\\\n",
    "                'pagerank': collapsed_graph.pagerank(weights='weight'), 'authority': collapsed_graph.authority_score(weights='weight'),\\\n",
    "                'hub':collapsed_graph.hub_score(weights='weight'), 'between':collapsed_graph.betweenness(),\\\n",
    "                'closeness':collapsed_graph.closeness()})\n",
    "\n",
    "n = collapsed_graph.vcount()\n",
    "collapsed_df['between'] = [2*x/((n-1)*(n-2)) for x in collapsed_df['between']]\n",
    "\n",
    "high_degree_df = collapsed_df.sort_values(by=\"degree_centrality\", ascending=False)\n",
    "high_degree_df.head()"
   ]
  },
  {
   "cell_type": "code",
   "execution_count": 103,
   "metadata": {},
   "outputs": [
    {
     "data": {
      "text/html": [
       "<div>\n",
       "<style scoped>\n",
       "    .dataframe tbody tr th:only-of-type {\n",
       "        vertical-align: middle;\n",
       "    }\n",
       "\n",
       "    .dataframe tbody tr th {\n",
       "        vertical-align: top;\n",
       "    }\n",
       "\n",
       "    .dataframe thead th {\n",
       "        text-align: right;\n",
       "    }\n",
       "</style>\n",
       "<table border=\"1\" class=\"dataframe\">\n",
       "  <thead>\n",
       "    <tr style=\"text-align: right;\">\n",
       "      <th></th>\n",
       "      <th>state</th>\n",
       "      <th>degree_centrality</th>\n",
       "      <th>pagerank</th>\n",
       "      <th>authority</th>\n",
       "      <th>hub</th>\n",
       "      <th>between</th>\n",
       "      <th>closeness</th>\n",
       "    </tr>\n",
       "  </thead>\n",
       "  <tbody>\n",
       "    <tr>\n",
       "      <th>43</th>\n",
       "      <td>TX</td>\n",
       "      <td>0.824127</td>\n",
       "      <td>0.093499</td>\n",
       "      <td>1.000000</td>\n",
       "      <td>1.000000</td>\n",
       "      <td>0.089665</td>\n",
       "      <td>0.980392</td>\n",
       "    </tr>\n",
       "    <tr>\n",
       "      <th>4</th>\n",
       "      <td>CA</td>\n",
       "      <td>0.818358</td>\n",
       "      <td>0.086750</td>\n",
       "      <td>0.954129</td>\n",
       "      <td>0.953015</td>\n",
       "      <td>0.066417</td>\n",
       "      <td>0.943396</td>\n",
       "    </tr>\n",
       "    <tr>\n",
       "      <th>14</th>\n",
       "      <td>IL</td>\n",
       "      <td>0.483197</td>\n",
       "      <td>0.059022</td>\n",
       "      <td>0.402050</td>\n",
       "      <td>0.401475</td>\n",
       "      <td>0.053512</td>\n",
       "      <td>1.000000</td>\n",
       "    </tr>\n",
       "    <tr>\n",
       "      <th>35</th>\n",
       "      <td>OH</td>\n",
       "      <td>0.226723</td>\n",
       "      <td>0.028922</td>\n",
       "      <td>0.178017</td>\n",
       "      <td>0.177940</td>\n",
       "      <td>0.047209</td>\n",
       "      <td>0.980392</td>\n",
       "    </tr>\n",
       "    <tr>\n",
       "      <th>9</th>\n",
       "      <td>FL</td>\n",
       "      <td>0.656727</td>\n",
       "      <td>0.073113</td>\n",
       "      <td>0.555008</td>\n",
       "      <td>0.554986</td>\n",
       "      <td>0.044062</td>\n",
       "      <td>0.943396</td>\n",
       "    </tr>\n",
       "  </tbody>\n",
       "</table>\n",
       "</div>"
      ],
      "text/plain": [
       "   state  degree_centrality  pagerank  authority       hub   between  \\\n",
       "43    TX           0.824127  0.093499   1.000000  1.000000  0.089665   \n",
       "4     CA           0.818358  0.086750   0.954129  0.953015  0.066417   \n",
       "14    IL           0.483197  0.059022   0.402050  0.401475  0.053512   \n",
       "35    OH           0.226723  0.028922   0.178017  0.177940  0.047209   \n",
       "9     FL           0.656727  0.073113   0.555008  0.554986  0.044062   \n",
       "\n",
       "    closeness  \n",
       "43   0.980392  \n",
       "4    0.943396  \n",
       "14   1.000000  \n",
       "35   0.980392  \n",
       "9    0.943396  "
      ]
     },
     "execution_count": 103,
     "metadata": {},
     "output_type": "execute_result"
    }
   ],
   "source": [
    "high_degree_df = collapsed_df.sort_values(by=\"between\", ascending=False)\n",
    "high_degree_df.head()"
   ]
  }
 ],
 "metadata": {
  "kernelspec": {
   "display_name": "Python 3.9.12 ('venv': venv)",
   "language": "python",
   "name": "python3"
  },
  "language_info": {
   "codemirror_mode": {
    "name": "ipython",
    "version": 3
   },
   "file_extension": ".py",
   "mimetype": "text/x-python",
   "name": "python",
   "nbconvert_exporter": "python",
   "pygments_lexer": "ipython3",
   "version": "3.9.12"
  },
  "orig_nbformat": 4,
  "vscode": {
   "interpreter": {
    "hash": "e2b5b1f831ddc9aefa4b96d1686710814664aefd36c7fef437f9f148da185091"
   }
  }
 },
 "nbformat": 4,
 "nbformat_minor": 2
}
